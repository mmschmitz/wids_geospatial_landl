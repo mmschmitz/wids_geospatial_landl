{
 "cells": [
  {
   "cell_type": "markdown",
   "metadata": {},
   "source": [
    "# Geopandas geoprocessing of Montgomery County, MARC, and Metro shapefiles\n",
    "## Coded by Michelle Schmitz on 05/02/2021, slightly updated on 06/13/2021\n",
    "\n",
    "**Purpose**: To reproject, buffer, and work with the following shapefiles:\n",
    "* Montgomery County Esri shapefile (*from Topologically Integrated Geographic Encoding and\n",
    "Referencing (TIGER) Database (MTDB) Shapefiles [(TIGR)](https://www.census.gov/geographies/mapping-files/time-series/geo/tiger-line-file.html) files*)\n",
    "* Maryland Area Regional Commuter (MARC) Train stations (*up to 1 mile outside of Montgomery County boundaries, from [Open Data DC](https://opendata.dc.gov/datasets/3af85db360e24427a2f0f40a9b0d6fd9_97/explore)*)\n",
    "* Metro train stations (*up to 1 mile outside of the Montgomery County boundaries, from [Open Data DC](https://opendata.dc.gov/datasets/54018b7f06b943f2af278bbe415df1de_52/explore)*)"
   ]
  },
  {
   "cell_type": "code",
   "execution_count": 1,
   "metadata": {},
   "outputs": [],
   "source": [
    "import os\n",
    "import getpass #to get username to make extensible filepath\n",
    "import geopandas as gpd\n",
    "import fiona #reads and writes geo files\n",
    "import descartes #used for gpd plotting\n",
    "import numpy as np\n",
    "import matplotlib.pyplot as plt #used to plot multiple shapefiles on top of each other"
   ]
  },
  {
   "cell_type": "markdown",
   "metadata": {},
   "source": [
    "### Handling Root Directories + Paths"
   ]
  },
  {
   "cell_type": "code",
   "execution_count": 2,
   "metadata": {},
   "outputs": [
    {
     "data": {
      "text/plain": [
       "'C:\\\\Users\\\\611322\\\\BOOZ ALLEN HAMILTON\\\\WiDS Incubator Cohort 4 - ADU - General\\\\GeographicData'"
      ]
     },
     "execution_count": 2,
     "metadata": {},
     "output_type": "execute_result"
    }
   ],
   "source": [
    "# read in the file path - just breaking it down so easier to read - this assumes mapped to current data\n",
    "username = getpass.getuser()\n",
    "dir_root = str('C:/Users/') + username + str('/BOOZ ALLEN HAMILTON/WiDS Incubator Cohort 4 - ADU - General/GeographicData')\n",
    "\n",
    "#assign root directory into the string\n",
    "os.chdir(dir_root)\n",
    "os.getcwd() #check working directory"
   ]
  },
  {
   "cell_type": "code",
   "execution_count": 3,
   "metadata": {},
   "outputs": [],
   "source": [
    "#get each path for each shapefile type\n",
    "\n",
    "tigr_dir = dir_root + str('/Census_TIGR')\n",
    "marc_dir = dir_root + str('/MARC_Rail_Stations')\n",
    "metro_dir = dir_root + str('/Metro_Rail_Stations')\n",
    "\n",
    "#state plane projection\n",
    "MD_state_plane_proj = \"EPSG:2248\""
   ]
  },
  {
   "cell_type": "markdown",
   "metadata": {},
   "source": [
    "### Montgomery County Processing"
   ]
  },
  {
   "cell_type": "code",
   "execution_count": 4,
   "metadata": {},
   "outputs": [
    {
     "data": {
      "text/html": [
       "<div>\n",
       "<style scoped>\n",
       "    .dataframe tbody tr th:only-of-type {\n",
       "        vertical-align: middle;\n",
       "    }\n",
       "\n",
       "    .dataframe tbody tr th {\n",
       "        vertical-align: top;\n",
       "    }\n",
       "\n",
       "    .dataframe thead th {\n",
       "        text-align: right;\n",
       "    }\n",
       "</style>\n",
       "<table border=\"1\" class=\"dataframe\">\n",
       "  <thead>\n",
       "    <tr style=\"text-align: right;\">\n",
       "      <th></th>\n",
       "      <th>STATEFP</th>\n",
       "      <th>COUNTYFP</th>\n",
       "      <th>COUNTYNS</th>\n",
       "      <th>GEOID</th>\n",
       "      <th>NAME</th>\n",
       "      <th>NAMELSAD</th>\n",
       "      <th>LSAD</th>\n",
       "      <th>CLASSFP</th>\n",
       "      <th>MTFCC</th>\n",
       "      <th>CSAFP</th>\n",
       "      <th>CBSAFP</th>\n",
       "      <th>METDIVFP</th>\n",
       "      <th>FUNCSTAT</th>\n",
       "      <th>ALAND</th>\n",
       "      <th>AWATER</th>\n",
       "      <th>INTPTLAT</th>\n",
       "      <th>INTPTLON</th>\n",
       "      <th>geometry</th>\n",
       "    </tr>\n",
       "  </thead>\n",
       "  <tbody>\n",
       "    <tr>\n",
       "      <th>0</th>\n",
       "      <td>24</td>\n",
       "      <td>031</td>\n",
       "      <td>01712500</td>\n",
       "      <td>24031</td>\n",
       "      <td>Montgomery</td>\n",
       "      <td>Montgomery County</td>\n",
       "      <td>06</td>\n",
       "      <td>H1</td>\n",
       "      <td>G4020</td>\n",
       "      <td>548</td>\n",
       "      <td>47900</td>\n",
       "      <td>23224</td>\n",
       "      <td>A</td>\n",
       "      <td>1277148686</td>\n",
       "      <td>35731155</td>\n",
       "      <td>+39.1373815</td>\n",
       "      <td>-077.2030633</td>\n",
       "      <td>POLYGON ((-77.43151 39.23217, -77.42615 39.234...</td>\n",
       "    </tr>\n",
       "  </tbody>\n",
       "</table>\n",
       "</div>"
      ],
      "text/plain": [
       "  STATEFP COUNTYFP  COUNTYNS  GEOID        NAME           NAMELSAD LSAD  \\\n",
       "0      24      031  01712500  24031  Montgomery  Montgomery County   06   \n",
       "\n",
       "  CLASSFP  MTFCC CSAFP CBSAFP METDIVFP FUNCSTAT       ALAND    AWATER  \\\n",
       "0      H1  G4020   548  47900    23224        A  1277148686  35731155   \n",
       "\n",
       "      INTPTLAT      INTPTLON  \\\n",
       "0  +39.1373815  -077.2030633   \n",
       "\n",
       "                                            geometry  \n",
       "0  POLYGON ((-77.43151 39.23217, -77.42615 39.234...  "
      ]
     },
     "execution_count": 4,
     "metadata": {},
     "output_type": "execute_result"
    }
   ],
   "source": [
    "Montgomery_SHP = gpd.GeoDataFrame.from_file(tigr_dir)\n",
    "Montgomery_SHP"
   ]
  },
  {
   "cell_type": "code",
   "execution_count": 5,
   "metadata": {},
   "outputs": [
    {
     "data": {
      "text/plain": [
       "<AxesSubplot:title={'center':'Montgomery County, WGS84 (lat/long)'}>"
      ]
     },
     "execution_count": 5,
     "metadata": {},
     "output_type": "execute_result"
    },
    {
     "data": {
      "image/png": "[encoded data removed]",
      "text/plain": [
       "<Figure size 432x288 with 1 Axes>"
      ]
     },
     "metadata": {
      "needs_background": "light"
     },
     "output_type": "display_data"
    }
   ],
   "source": [
    "Mont_SHP_plt = Montgomery_SHP.plot()\n",
    "Mont_SHP_plt.set_title(\"Montgomery County, WGS84 (lat/long)\")\n",
    "Mont_SHP_plt\n",
    "#this plot is in WGD1984 - needs to be replotted so we can buffer in miles"
   ]
  },
  {
   "cell_type": "code",
   "execution_count": 6,
   "metadata": {},
   "outputs": [
    {
     "data": {
      "text/plain": [
       "<Geographic 2D CRS: EPSG:4326>\n",
       "Name: WGS 84\n",
       "Axis Info [ellipsoidal]:\n",
       "- Lat[north]: Geodetic latitude (degree)\n",
       "- Lon[east]: Geodetic longitude (degree)\n",
       "Area of Use:\n",
       "- name: World\n",
       "- bounds: (-180.0, -90.0, 180.0, 90.0)\n",
       "Datum: World Geodetic System 1984\n",
       "- Ellipsoid: WGS 84\n",
       "- Prime Meridian: Greenwich"
      ]
     },
     "execution_count": 6,
     "metadata": {},
     "output_type": "execute_result"
    }
   ],
   "source": [
    "Montgomery_SHP.crs"
   ]
  },
  {
   "cell_type": "code",
   "execution_count": 7,
   "metadata": {},
   "outputs": [
    {
     "data": {
      "text/plain": [
       "<Projected CRS: EPSG:2248>\n",
       "Name: NAD83 / Maryland (ftUS)\n",
       "Axis Info [cartesian]:\n",
       "- X[east]: Easting (US survey foot)\n",
       "- Y[north]: Northing (US survey foot)\n",
       "Area of Use:\n",
       "- name: USA - Maryland\n",
       "- bounds: (-79.49, 37.97, -74.97, 39.73)\n",
       "Coordinate Operation:\n",
       "- name: SPCS83 Maryland zone (US Survey feet)\n",
       "- method: Lambert Conic Conformal (2SP)\n",
       "Datum: North American Datum 1983\n",
       "- Ellipsoid: GRS 1980\n",
       "- Prime Meridian: Greenwich"
      ]
     },
     "execution_count": 7,
     "metadata": {},
     "output_type": "execute_result"
    }
   ],
   "source": [
    "#need to reproject to the MD \n",
    "Montgomery_SHP_MD = Montgomery_SHP.to_crs(MD_state_plane_proj)\n",
    "Montgomery_SHP_MD.crs #note that units are feet!!"
   ]
  },
  {
   "cell_type": "code",
   "execution_count": 8,
   "metadata": {},
   "outputs": [
    {
     "data": {
      "text/plain": [
       "<AxesSubplot:title={'center':'Montgomery County, MD State Plane'}>"
      ]
     },
     "execution_count": 8,
     "metadata": {},
     "output_type": "execute_result"
    },
    {
     "data": {
      "image/png": "[encoded data removed]",
      "text/plain": [
       "<Figure size 432x288 with 1 Axes>"
      ]
     },
     "metadata": {
      "needs_background": "light"
     },
     "output_type": "display_data"
    }
   ],
   "source": [
    "Mont_SHP_MD_plt = Montgomery_SHP_MD.plot()\n",
    "Mont_SHP_MD_plt.set_title(\"Montgomery County, MD State Plane\")\n",
    "Mont_SHP_MD_plt"
   ]
  },
  {
   "cell_type": "code",
   "execution_count": 9,
   "metadata": {},
   "outputs": [
    {
     "data": {
      "text/plain": [
       "Text(0.5, 1.0, '1 mile buffer')"
      ]
     },
     "execution_count": 9,
     "metadata": {},
     "output_type": "execute_result"
    },
    {
     "data": {
      "image/png": "[encoded data removed]",
      "text/plain": [
       "<Figure size 432x288 with 1 Axes>"
      ]
     },
     "metadata": {
      "needs_background": "light"
     },
     "output_type": "display_data"
    }
   ],
   "source": [
    "#now reprojected, need to create a 1-mile buffer around the outside of Montgomery County\n",
    "Montgomery_SHP_MD_1miBuff = Montgomery_SHP_MD.buffer(5280) #5,280 feet in a mile\n",
    "MontMD_BuffPlot = Montgomery_SHP_MD_1miBuff.plot()\n",
    "MontMD_BuffPlot.set_title(\"1 mile buffer\")"
   ]
  },
  {
   "cell_type": "code",
   "execution_count": 10,
   "metadata": {},
   "outputs": [],
   "source": [
    "## writing all of the Montgomery County operations into individual GeoJSONs/SHPs (so others can use it)\n",
    "# commented out because already performed - don't need to re-write.\n",
    "\n",
    "# # Montgomery, reprojected\n",
    "# Montgomery_SHP_MD.to_file(\"Montgomery_SHP_MD.shp\")\n",
    "# Montgomery_SHP_MD.to_file(\"Montgomery_SHP_MD.geojson\", driver='GeoJSON')\n",
    "\n",
    "# # Montgomery, reprojected, buffer\n",
    "# Montgomery_SHP_MD_1miBuff.to_file(\"Montgomery_SHP_MD_1miBuff.shp\")\n",
    "# Montgomery_SHP_MD_1miBuff.to_file(\"Montgomery_SHP_MD_1miBuff.geojson\", driver='GeoJSON')"
   ]
  },
  {
   "cell_type": "markdown",
   "metadata": {},
   "source": [
    "### MARC Transformations"
   ]
  },
  {
   "cell_type": "code",
   "execution_count": 11,
   "metadata": {},
   "outputs": [
    {
     "data": {
      "text/html": [
       "<div>\n",
       "<style scoped>\n",
       "    .dataframe tbody tr th:only-of-type {\n",
       "        vertical-align: middle;\n",
       "    }\n",
       "\n",
       "    .dataframe tbody tr th {\n",
       "        vertical-align: top;\n",
       "    }\n",
       "\n",
       "    .dataframe thead th {\n",
       "        text-align: right;\n",
       "    }\n",
       "</style>\n",
       "<table border=\"1\" class=\"dataframe\">\n",
       "  <thead>\n",
       "    <tr style=\"text-align: right;\">\n",
       "      <th></th>\n",
       "      <th>OBJECTID</th>\n",
       "      <th>Stop_or_St</th>\n",
       "      <th>Mode</th>\n",
       "      <th>geometry</th>\n",
       "    </tr>\n",
       "  </thead>\n",
       "  <tbody>\n",
       "    <tr>\n",
       "      <th>0</th>\n",
       "      <td>5537</td>\n",
       "      <td>DICKERSON MARC eb</td>\n",
       "      <td>MARC</td>\n",
       "      <td>POINT (1192198.022 566024.548)</td>\n",
       "    </tr>\n",
       "    <tr>\n",
       "      <th>1</th>\n",
       "      <td>5538</td>\n",
       "      <td>BARNESVILLE MARC eb</td>\n",
       "      <td>MARC</td>\n",
       "      <td>POINT (1204010.351 562098.815)</td>\n",
       "    </tr>\n",
       "    <tr>\n",
       "      <th>2</th>\n",
       "      <td>5539</td>\n",
       "      <td>BOYDS MARC eb</td>\n",
       "      <td>MARC</td>\n",
       "      <td>POINT (1223611.459 552694.533)</td>\n",
       "    </tr>\n",
       "    <tr>\n",
       "      <th>3</th>\n",
       "      <td>5540</td>\n",
       "      <td>GERMANTOWN MARC eb</td>\n",
       "      <td>MARC</td>\n",
       "      <td>POINT (1235934.885 548560.627)</td>\n",
       "    </tr>\n",
       "    <tr>\n",
       "      <th>4</th>\n",
       "      <td>5541</td>\n",
       "      <td>METROPOLITAN GROVE MARC eb</td>\n",
       "      <td>MARC</td>\n",
       "      <td>POINT (1247937.971 540255.056)</td>\n",
       "    </tr>\n",
       "    <tr>\n",
       "      <th>5</th>\n",
       "      <td>5542</td>\n",
       "      <td>GAITHERSBURG MARC eb</td>\n",
       "      <td>MARC</td>\n",
       "      <td>POINT (1257495.395 537152.836)</td>\n",
       "    </tr>\n",
       "    <tr>\n",
       "      <th>6</th>\n",
       "      <td>5543</td>\n",
       "      <td>WASHINGTON GROVE MARC eb</td>\n",
       "      <td>MARC</td>\n",
       "      <td>POINT (1262268.619 534816.171)</td>\n",
       "    </tr>\n",
       "    <tr>\n",
       "      <th>7</th>\n",
       "      <td>5544</td>\n",
       "      <td>ROCKVILLE MARC eb</td>\n",
       "      <td>MARC</td>\n",
       "      <td>POINT (1270581.321 516630.339)</td>\n",
       "    </tr>\n",
       "    <tr>\n",
       "      <th>8</th>\n",
       "      <td>5545</td>\n",
       "      <td>GARRETT PARK MARC eb</td>\n",
       "      <td>MARC</td>\n",
       "      <td>POINT (1285816.917 499733.077)</td>\n",
       "    </tr>\n",
       "    <tr>\n",
       "      <th>9</th>\n",
       "      <td>5546</td>\n",
       "      <td>KENSINGTON MARC eb</td>\n",
       "      <td>MARC</td>\n",
       "      <td>POINT (1291811.287 495454.013)</td>\n",
       "    </tr>\n",
       "    <tr>\n",
       "      <th>10</th>\n",
       "      <td>5547</td>\n",
       "      <td>SILVER SPRING MARC eb</td>\n",
       "      <td>MARC</td>\n",
       "      <td>POINT (1303722.193 483690.727)</td>\n",
       "    </tr>\n",
       "    <tr>\n",
       "      <th>11</th>\n",
       "      <td>5549</td>\n",
       "      <td>SILVER SPRING MARC wb</td>\n",
       "      <td>MARC</td>\n",
       "      <td>POINT (1303741.806 483697.276)</td>\n",
       "    </tr>\n",
       "    <tr>\n",
       "      <th>12</th>\n",
       "      <td>5550</td>\n",
       "      <td>KENSINGTON MARC wb</td>\n",
       "      <td>MARC</td>\n",
       "      <td>POINT (1291824.370 495473.670)</td>\n",
       "    </tr>\n",
       "    <tr>\n",
       "      <th>13</th>\n",
       "      <td>5551</td>\n",
       "      <td>GARRETT PARK MARC wb</td>\n",
       "      <td>MARC</td>\n",
       "      <td>POINT (1285836.536 499752.724)</td>\n",
       "    </tr>\n",
       "    <tr>\n",
       "      <th>14</th>\n",
       "      <td>5552</td>\n",
       "      <td>ROCKVILLE MARC wb</td>\n",
       "      <td>MARC</td>\n",
       "      <td>POINT (1270607.468 516649.964)</td>\n",
       "    </tr>\n",
       "    <tr>\n",
       "      <th>15</th>\n",
       "      <td>5553</td>\n",
       "      <td>WASHINGTON GROVE MARC wb</td>\n",
       "      <td>MARC</td>\n",
       "      <td>POINT (1262301.561 534835.775)</td>\n",
       "    </tr>\n",
       "    <tr>\n",
       "      <th>16</th>\n",
       "      <td>5554</td>\n",
       "      <td>GAITHERSBURG MARC wb</td>\n",
       "      <td>MARC</td>\n",
       "      <td>POINT (1257495.478 537192.171)</td>\n",
       "    </tr>\n",
       "    <tr>\n",
       "      <th>17</th>\n",
       "      <td>5555</td>\n",
       "      <td>METROPOLITAN GROVE MARC wb</td>\n",
       "      <td>MARC</td>\n",
       "      <td>POINT (1247924.561 540222.309)</td>\n",
       "    </tr>\n",
       "    <tr>\n",
       "      <th>18</th>\n",
       "      <td>5556</td>\n",
       "      <td>GERMANTOWN MARC wb</td>\n",
       "      <td>MARC</td>\n",
       "      <td>POINT (1235908.726 548534.480)</td>\n",
       "    </tr>\n",
       "    <tr>\n",
       "      <th>19</th>\n",
       "      <td>5557</td>\n",
       "      <td>BOYDS MARC wb</td>\n",
       "      <td>MARC</td>\n",
       "      <td>POINT (1223618.090 552727.291)</td>\n",
       "    </tr>\n",
       "    <tr>\n",
       "      <th>20</th>\n",
       "      <td>5558</td>\n",
       "      <td>BARNESVILLE MARC wb</td>\n",
       "      <td>MARC</td>\n",
       "      <td>POINT (1204023.523 562131.541)</td>\n",
       "    </tr>\n",
       "    <tr>\n",
       "      <th>21</th>\n",
       "      <td>5559</td>\n",
       "      <td>DICKERSON MARC wb</td>\n",
       "      <td>MARC</td>\n",
       "      <td>POINT (1192198.204 566063.884)</td>\n",
       "    </tr>\n",
       "  </tbody>\n",
       "</table>\n",
       "</div>"
      ],
      "text/plain": [
       "    OBJECTID                  Stop_or_St  Mode                        geometry\n",
       "0       5537           DICKERSON MARC eb  MARC  POINT (1192198.022 566024.548)\n",
       "1       5538         BARNESVILLE MARC eb  MARC  POINT (1204010.351 562098.815)\n",
       "2       5539               BOYDS MARC eb  MARC  POINT (1223611.459 552694.533)\n",
       "3       5540          GERMANTOWN MARC eb  MARC  POINT (1235934.885 548560.627)\n",
       "4       5541  METROPOLITAN GROVE MARC eb  MARC  POINT (1247937.971 540255.056)\n",
       "5       5542        GAITHERSBURG MARC eb  MARC  POINT (1257495.395 537152.836)\n",
       "6       5543    WASHINGTON GROVE MARC eb  MARC  POINT (1262268.619 534816.171)\n",
       "7       5544           ROCKVILLE MARC eb  MARC  POINT (1270581.321 516630.339)\n",
       "8       5545        GARRETT PARK MARC eb  MARC  POINT (1285816.917 499733.077)\n",
       "9       5546          KENSINGTON MARC eb  MARC  POINT (1291811.287 495454.013)\n",
       "10      5547       SILVER SPRING MARC eb  MARC  POINT (1303722.193 483690.727)\n",
       "11      5549       SILVER SPRING MARC wb  MARC  POINT (1303741.806 483697.276)\n",
       "12      5550          KENSINGTON MARC wb  MARC  POINT (1291824.370 495473.670)\n",
       "13      5551        GARRETT PARK MARC wb  MARC  POINT (1285836.536 499752.724)\n",
       "14      5552           ROCKVILLE MARC wb  MARC  POINT (1270607.468 516649.964)\n",
       "15      5553    WASHINGTON GROVE MARC wb  MARC  POINT (1262301.561 534835.775)\n",
       "16      5554        GAITHERSBURG MARC wb  MARC  POINT (1257495.478 537192.171)\n",
       "17      5555  METROPOLITAN GROVE MARC wb  MARC  POINT (1247924.561 540222.309)\n",
       "18      5556          GERMANTOWN MARC wb  MARC  POINT (1235908.726 548534.480)\n",
       "19      5557               BOYDS MARC wb  MARC  POINT (1223618.090 552727.291)\n",
       "20      5558         BARNESVILLE MARC wb  MARC  POINT (1204023.523 562131.541)\n",
       "21      5559           DICKERSON MARC wb  MARC  POINT (1192198.204 566063.884)"
      ]
     },
     "execution_count": 11,
     "metadata": {},
     "output_type": "execute_result"
    }
   ],
   "source": [
    "#Looking at Montgomery County-subset data\n",
    "MARC_SHP = gpd.GeoDataFrame.from_file(marc_dir)\n",
    "MARC_SHP #this appears to be in WGS84 as well - note the lat/long usage - note 22 stops added"
   ]
  },
  {
   "cell_type": "code",
   "execution_count": 12,
   "metadata": {},
   "outputs": [
    {
     "data": {
      "image/png": "[encoded data removed]",
      "text/plain": [
       "<Figure size 432x288 with 1 Axes>"
      ]
     },
     "metadata": {
      "needs_background": "light"
     },
     "output_type": "display_data"
    }
   ],
   "source": [
    "#plotting MARC file\n",
    "MARC_plot = MARC_SHP.plot() #again, this is lat/long - not super useful"
   ]
  },
  {
   "cell_type": "code",
   "execution_count": 13,
   "metadata": {},
   "outputs": [
    {
     "data": {
      "text/plain": [
       "<Projected CRS: EPSG:2248>\n",
       "Name: NAD83 / Maryland (ftUS)\n",
       "Axis Info [cartesian]:\n",
       "- X[east]: Easting (US survey foot)\n",
       "- Y[north]: Northing (US survey foot)\n",
       "Area of Use:\n",
       "- name: USA - Maryland\n",
       "- bounds: (-79.49, 37.97, -74.97, 39.73)\n",
       "Coordinate Operation:\n",
       "- name: SPCS83 Maryland zone (US Survey feet)\n",
       "- method: Lambert Conic Conformal (2SP)\n",
       "Datum: North American Datum 1983\n",
       "- Ellipsoid: GRS 1980\n",
       "- Prime Meridian: Greenwich"
      ]
     },
     "execution_count": 13,
     "metadata": {},
     "output_type": "execute_result"
    }
   ],
   "source": [
    "#need to reproject these to the MD standard\n",
    "MARC_SHP_MD = MARC_SHP.to_crs(MD_state_plane_proj)\n",
    "MARC_SHP_MD.crs"
   ]
  },
  {
   "cell_type": "code",
   "execution_count": 14,
   "metadata": {},
   "outputs": [
    {
     "data": {
      "text/html": [
       "<div>\n",
       "<style scoped>\n",
       "    .dataframe tbody tr th:only-of-type {\n",
       "        vertical-align: middle;\n",
       "    }\n",
       "\n",
       "    .dataframe tbody tr th {\n",
       "        vertical-align: top;\n",
       "    }\n",
       "\n",
       "    .dataframe thead th {\n",
       "        text-align: right;\n",
       "    }\n",
       "</style>\n",
       "<table border=\"1\" class=\"dataframe\">\n",
       "  <thead>\n",
       "    <tr style=\"text-align: right;\">\n",
       "      <th></th>\n",
       "      <th>OBJECTID</th>\n",
       "      <th>Stop_or_St</th>\n",
       "      <th>Mode</th>\n",
       "      <th>geometry</th>\n",
       "    </tr>\n",
       "  </thead>\n",
       "  <tbody>\n",
       "    <tr>\n",
       "      <th>0</th>\n",
       "      <td>5530</td>\n",
       "      <td>MARTINSBURG W VA MARC</td>\n",
       "      <td>MARC</td>\n",
       "      <td>POINT (-77.96166 39.46112)</td>\n",
       "    </tr>\n",
       "    <tr>\n",
       "      <th>1</th>\n",
       "      <td>5531</td>\n",
       "      <td>DUFFIELDS W VA MARC eb</td>\n",
       "      <td>MARC</td>\n",
       "      <td>POINT (-77.82664 39.36227)</td>\n",
       "    </tr>\n",
       "    <tr>\n",
       "      <th>2</th>\n",
       "      <td>5532</td>\n",
       "      <td>HARPERS FERRY W VA MARC eb</td>\n",
       "      <td>MARC</td>\n",
       "      <td>POINT (-77.73057 39.32450)</td>\n",
       "    </tr>\n",
       "    <tr>\n",
       "      <th>3</th>\n",
       "      <td>5533</td>\n",
       "      <td>BRUNSWICK MD MARC eb</td>\n",
       "      <td>MARC</td>\n",
       "      <td>POINT (-77.62705 39.31187)</td>\n",
       "    </tr>\n",
       "    <tr>\n",
       "      <th>4</th>\n",
       "      <td>5534</td>\n",
       "      <td>FREDERICK MARC eb</td>\n",
       "      <td>MARC</td>\n",
       "      <td>POINT (-77.40557 39.41275)</td>\n",
       "    </tr>\n",
       "    <tr>\n",
       "      <th>...</th>\n",
       "      <td>...</td>\n",
       "      <td>...</td>\n",
       "      <td>...</td>\n",
       "      <td>...</td>\n",
       "    </tr>\n",
       "    <tr>\n",
       "      <th>74</th>\n",
       "      <td>5609</td>\n",
       "      <td>LAUREL MARC nb</td>\n",
       "      <td>MARC</td>\n",
       "      <td>POINT (-76.84211 39.10182)</td>\n",
       "    </tr>\n",
       "    <tr>\n",
       "      <th>75</th>\n",
       "      <td>5610</td>\n",
       "      <td>SAVAGE MARC nb</td>\n",
       "      <td>MARC</td>\n",
       "      <td>POINT (-76.79635 39.12286)</td>\n",
       "    </tr>\n",
       "    <tr>\n",
       "      <th>76</th>\n",
       "      <td>5611</td>\n",
       "      <td>JESSUP MARC nb</td>\n",
       "      <td>MARC</td>\n",
       "      <td>POINT (-76.77633 39.15153)</td>\n",
       "    </tr>\n",
       "    <tr>\n",
       "      <th>77</th>\n",
       "      <td>5612</td>\n",
       "      <td>DORSEY MARC nb</td>\n",
       "      <td>MARC</td>\n",
       "      <td>POINT (-76.74512 39.18128)</td>\n",
       "    </tr>\n",
       "    <tr>\n",
       "      <th>78</th>\n",
       "      <td>5613</td>\n",
       "      <td>ST DENIS MARC nb</td>\n",
       "      <td>MARC</td>\n",
       "      <td>POINT (-76.70482 39.22405)</td>\n",
       "    </tr>\n",
       "  </tbody>\n",
       "</table>\n",
       "<p>79 rows × 4 columns</p>\n",
       "</div>"
      ],
      "text/plain": [
       "    OBJECTID                  Stop_or_St  Mode                    geometry\n",
       "0       5530       MARTINSBURG W VA MARC  MARC  POINT (-77.96166 39.46112)\n",
       "1       5531      DUFFIELDS W VA MARC eb  MARC  POINT (-77.82664 39.36227)\n",
       "2       5532  HARPERS FERRY W VA MARC eb  MARC  POINT (-77.73057 39.32450)\n",
       "3       5533        BRUNSWICK MD MARC eb  MARC  POINT (-77.62705 39.31187)\n",
       "4       5534           FREDERICK MARC eb  MARC  POINT (-77.40557 39.41275)\n",
       "..       ...                         ...   ...                         ...\n",
       "74      5609              LAUREL MARC nb  MARC  POINT (-76.84211 39.10182)\n",
       "75      5610              SAVAGE MARC nb  MARC  POINT (-76.79635 39.12286)\n",
       "76      5611              JESSUP MARC nb  MARC  POINT (-76.77633 39.15153)\n",
       "77      5612              DORSEY MARC nb  MARC  POINT (-76.74512 39.18128)\n",
       "78      5613            ST DENIS MARC nb  MARC  POINT (-76.70482 39.22405)\n",
       "\n",
       "[79 rows x 4 columns]"
      ]
     },
     "execution_count": 14,
     "metadata": {},
     "output_type": "execute_result"
    }
   ],
   "source": [
    "#Maryland_Area_Regional_Commuter_Train_Stops has ALL files\n",
    "MARC_All_path = marc_dir + str('/Maryland_Area_Regional_Commuter_Train_Stops')\n",
    "MARC_All_path\n",
    "\n",
    "MARC_All_SHP = gpd.GeoDataFrame.from_file(MARC_All_path)\n",
    "MARC_All_SHP"
   ]
  },
  {
   "cell_type": "code",
   "execution_count": 15,
   "metadata": {},
   "outputs": [
    {
     "data": {
      "text/plain": [
       "<Geographic 2D CRS: EPSG:4326>\n",
       "Name: WGS 84\n",
       "Axis Info [ellipsoidal]:\n",
       "- Lat[north]: Geodetic latitude (degree)\n",
       "- Lon[east]: Geodetic longitude (degree)\n",
       "Area of Use:\n",
       "- name: World\n",
       "- bounds: (-180.0, -90.0, 180.0, 90.0)\n",
       "Datum: World Geodetic System 1984\n",
       "- Ellipsoid: WGS 84\n",
       "- Prime Meridian: Greenwich"
      ]
     },
     "execution_count": 15,
     "metadata": {},
     "output_type": "execute_result"
    }
   ],
   "source": [
    "MARC_All_SHP.crs #note that units are lat/long and need to be reprojected!!"
   ]
  },
  {
   "cell_type": "code",
   "execution_count": 16,
   "metadata": {},
   "outputs": [
    {
     "data": {
      "text/plain": [
       "Text(0.5, 1.0, 'MARC Stops, All Locations, WGS 84')"
      ]
     },
     "execution_count": 16,
     "metadata": {},
     "output_type": "execute_result"
    },
    {
     "data": {
      "image/png": "[encoded data removed]",
      "text/plain": [
       "<Figure size 432x288 with 1 Axes>"
      ]
     },
     "metadata": {
      "needs_background": "light"
     },
     "output_type": "display_data"
    }
   ],
   "source": [
    "MARC_ALL_plot = MARC_All_SHP.plot()\n",
    "MARC_ALL_plot.set_title(\"MARC Stops, All Locations, WGS 84\") #see lots more stops - these need to be reprojected and then subset"
   ]
  },
  {
   "cell_type": "code",
   "execution_count": 17,
   "metadata": {},
   "outputs": [
    {
     "data": {
      "text/plain": [
       "<Projected CRS: EPSG:2248>\n",
       "Name: NAD83 / Maryland (ftUS)\n",
       "Axis Info [cartesian]:\n",
       "- X[east]: Easting (US survey foot)\n",
       "- Y[north]: Northing (US survey foot)\n",
       "Area of Use:\n",
       "- name: USA - Maryland\n",
       "- bounds: (-79.49, 37.97, -74.97, 39.73)\n",
       "Coordinate Operation:\n",
       "- name: SPCS83 Maryland zone (US Survey feet)\n",
       "- method: Lambert Conic Conformal (2SP)\n",
       "Datum: North American Datum 1983\n",
       "- Ellipsoid: GRS 1980\n",
       "- Prime Meridian: Greenwich"
      ]
     },
     "execution_count": 17,
     "metadata": {},
     "output_type": "execute_result"
    }
   ],
   "source": [
    "MARC_All_MD_SHP = MARC_All_SHP.to_crs(MD_state_plane_proj)\n",
    "MARC_All_MD_SHP.crs #note that units are feet!!"
   ]
  },
  {
   "cell_type": "code",
   "execution_count": 18,
   "metadata": {},
   "outputs": [
    {
     "data": {
      "text/plain": [
       "Text(0.5, 1.0, 'MARC Stops, All Locations, MD State Plane')"
      ]
     },
     "execution_count": 18,
     "metadata": {},
     "output_type": "execute_result"
    },
    {
     "data": {
      "image/png": "[encoded data removed]",
      "text/plain": [
       "<Figure size 432x288 with 1 Axes>"
      ]
     },
     "metadata": {
      "needs_background": "light"
     },
     "output_type": "display_data"
    }
   ],
   "source": [
    "MARC_ALL_MD_plot = MARC_All_MD_SHP.plot()\n",
    "MARC_ALL_MD_plot.set_title(\"MARC Stops, All Locations, MD State Plane\") #see lots more stops - these need to be reprojected and then subset"
   ]
  },
  {
   "cell_type": "code",
   "execution_count": 19,
   "metadata": {},
   "outputs": [
    {
     "data": {
      "text/html": [
       "<div>\n",
       "<style scoped>\n",
       "    .dataframe tbody tr th:only-of-type {\n",
       "        vertical-align: middle;\n",
       "    }\n",
       "\n",
       "    .dataframe tbody tr th {\n",
       "        vertical-align: top;\n",
       "    }\n",
       "\n",
       "    .dataframe thead th {\n",
       "        text-align: right;\n",
       "    }\n",
       "</style>\n",
       "<table border=\"1\" class=\"dataframe\">\n",
       "  <thead>\n",
       "    <tr style=\"text-align: right;\">\n",
       "      <th></th>\n",
       "      <th>OBJECTID</th>\n",
       "      <th>Stop_or_St</th>\n",
       "      <th>Mode</th>\n",
       "      <th>geometry</th>\n",
       "    </tr>\n",
       "  </thead>\n",
       "  <tbody>\n",
       "    <tr>\n",
       "      <th>7</th>\n",
       "      <td>5537</td>\n",
       "      <td>DICKERSON MARC eb</td>\n",
       "      <td>MARC</td>\n",
       "      <td>POINT (1192198.022 566024.548)</td>\n",
       "    </tr>\n",
       "    <tr>\n",
       "      <th>8</th>\n",
       "      <td>5538</td>\n",
       "      <td>BARNESVILLE MARC eb</td>\n",
       "      <td>MARC</td>\n",
       "      <td>POINT (1204010.351 562098.815)</td>\n",
       "    </tr>\n",
       "    <tr>\n",
       "      <th>9</th>\n",
       "      <td>5539</td>\n",
       "      <td>BOYDS MARC eb</td>\n",
       "      <td>MARC</td>\n",
       "      <td>POINT (1223611.459 552694.533)</td>\n",
       "    </tr>\n",
       "    <tr>\n",
       "      <th>10</th>\n",
       "      <td>5540</td>\n",
       "      <td>GERMANTOWN MARC eb</td>\n",
       "      <td>MARC</td>\n",
       "      <td>POINT (1235934.885 548560.627)</td>\n",
       "    </tr>\n",
       "    <tr>\n",
       "      <th>11</th>\n",
       "      <td>5541</td>\n",
       "      <td>METROPOLITAN GROVE MARC eb</td>\n",
       "      <td>MARC</td>\n",
       "      <td>POINT (1247937.971 540255.056)</td>\n",
       "    </tr>\n",
       "    <tr>\n",
       "      <th>12</th>\n",
       "      <td>5542</td>\n",
       "      <td>GAITHERSBURG MARC eb</td>\n",
       "      <td>MARC</td>\n",
       "      <td>POINT (1257495.395 537152.836)</td>\n",
       "    </tr>\n",
       "    <tr>\n",
       "      <th>13</th>\n",
       "      <td>5543</td>\n",
       "      <td>WASHINGTON GROVE MARC eb</td>\n",
       "      <td>MARC</td>\n",
       "      <td>POINT (1262268.619 534816.171)</td>\n",
       "    </tr>\n",
       "    <tr>\n",
       "      <th>14</th>\n",
       "      <td>5544</td>\n",
       "      <td>ROCKVILLE MARC eb</td>\n",
       "      <td>MARC</td>\n",
       "      <td>POINT (1270581.321 516630.339)</td>\n",
       "    </tr>\n",
       "    <tr>\n",
       "      <th>15</th>\n",
       "      <td>5545</td>\n",
       "      <td>GARRETT PARK MARC eb</td>\n",
       "      <td>MARC</td>\n",
       "      <td>POINT (1285816.917 499733.077)</td>\n",
       "    </tr>\n",
       "    <tr>\n",
       "      <th>16</th>\n",
       "      <td>5546</td>\n",
       "      <td>KENSINGTON MARC eb</td>\n",
       "      <td>MARC</td>\n",
       "      <td>POINT (1291811.287 495454.013)</td>\n",
       "    </tr>\n",
       "    <tr>\n",
       "      <th>17</th>\n",
       "      <td>5547</td>\n",
       "      <td>SILVER SPRING MARC eb</td>\n",
       "      <td>MARC</td>\n",
       "      <td>POINT (1303722.193 483690.727)</td>\n",
       "    </tr>\n",
       "    <tr>\n",
       "      <th>19</th>\n",
       "      <td>5549</td>\n",
       "      <td>SILVER SPRING MARC wb</td>\n",
       "      <td>MARC</td>\n",
       "      <td>POINT (1303741.806 483697.276)</td>\n",
       "    </tr>\n",
       "    <tr>\n",
       "      <th>20</th>\n",
       "      <td>5550</td>\n",
       "      <td>KENSINGTON MARC wb</td>\n",
       "      <td>MARC</td>\n",
       "      <td>POINT (1291824.370 495473.670)</td>\n",
       "    </tr>\n",
       "    <tr>\n",
       "      <th>21</th>\n",
       "      <td>5551</td>\n",
       "      <td>GARRETT PARK MARC wb</td>\n",
       "      <td>MARC</td>\n",
       "      <td>POINT (1285836.536 499752.724)</td>\n",
       "    </tr>\n",
       "    <tr>\n",
       "      <th>22</th>\n",
       "      <td>5552</td>\n",
       "      <td>ROCKVILLE MARC wb</td>\n",
       "      <td>MARC</td>\n",
       "      <td>POINT (1270607.468 516649.964)</td>\n",
       "    </tr>\n",
       "    <tr>\n",
       "      <th>23</th>\n",
       "      <td>5553</td>\n",
       "      <td>WASHINGTON GROVE MARC wb</td>\n",
       "      <td>MARC</td>\n",
       "      <td>POINT (1262301.561 534835.775)</td>\n",
       "    </tr>\n",
       "    <tr>\n",
       "      <th>24</th>\n",
       "      <td>5554</td>\n",
       "      <td>GAITHERSBURG MARC wb</td>\n",
       "      <td>MARC</td>\n",
       "      <td>POINT (1257495.478 537192.171)</td>\n",
       "    </tr>\n",
       "    <tr>\n",
       "      <th>25</th>\n",
       "      <td>5555</td>\n",
       "      <td>METROPOLITAN GROVE MARC wb</td>\n",
       "      <td>MARC</td>\n",
       "      <td>POINT (1247924.561 540222.309)</td>\n",
       "    </tr>\n",
       "    <tr>\n",
       "      <th>26</th>\n",
       "      <td>5556</td>\n",
       "      <td>GERMANTOWN MARC wb</td>\n",
       "      <td>MARC</td>\n",
       "      <td>POINT (1235908.726 548534.480)</td>\n",
       "    </tr>\n",
       "    <tr>\n",
       "      <th>27</th>\n",
       "      <td>5557</td>\n",
       "      <td>BOYDS MARC wb</td>\n",
       "      <td>MARC</td>\n",
       "      <td>POINT (1223618.090 552727.291)</td>\n",
       "    </tr>\n",
       "    <tr>\n",
       "      <th>28</th>\n",
       "      <td>5558</td>\n",
       "      <td>BARNESVILLE MARC wb</td>\n",
       "      <td>MARC</td>\n",
       "      <td>POINT (1204023.523 562131.541)</td>\n",
       "    </tr>\n",
       "    <tr>\n",
       "      <th>29</th>\n",
       "      <td>5559</td>\n",
       "      <td>DICKERSON MARC wb</td>\n",
       "      <td>MARC</td>\n",
       "      <td>POINT (1192198.204 566063.884)</td>\n",
       "    </tr>\n",
       "  </tbody>\n",
       "</table>\n",
       "</div>"
      ],
      "text/plain": [
       "    OBJECTID                  Stop_or_St  Mode                        geometry\n",
       "7       5537           DICKERSON MARC eb  MARC  POINT (1192198.022 566024.548)\n",
       "8       5538         BARNESVILLE MARC eb  MARC  POINT (1204010.351 562098.815)\n",
       "9       5539               BOYDS MARC eb  MARC  POINT (1223611.459 552694.533)\n",
       "10      5540          GERMANTOWN MARC eb  MARC  POINT (1235934.885 548560.627)\n",
       "11      5541  METROPOLITAN GROVE MARC eb  MARC  POINT (1247937.971 540255.056)\n",
       "12      5542        GAITHERSBURG MARC eb  MARC  POINT (1257495.395 537152.836)\n",
       "13      5543    WASHINGTON GROVE MARC eb  MARC  POINT (1262268.619 534816.171)\n",
       "14      5544           ROCKVILLE MARC eb  MARC  POINT (1270581.321 516630.339)\n",
       "15      5545        GARRETT PARK MARC eb  MARC  POINT (1285816.917 499733.077)\n",
       "16      5546          KENSINGTON MARC eb  MARC  POINT (1291811.287 495454.013)\n",
       "17      5547       SILVER SPRING MARC eb  MARC  POINT (1303722.193 483690.727)\n",
       "19      5549       SILVER SPRING MARC wb  MARC  POINT (1303741.806 483697.276)\n",
       "20      5550          KENSINGTON MARC wb  MARC  POINT (1291824.370 495473.670)\n",
       "21      5551        GARRETT PARK MARC wb  MARC  POINT (1285836.536 499752.724)\n",
       "22      5552           ROCKVILLE MARC wb  MARC  POINT (1270607.468 516649.964)\n",
       "23      5553    WASHINGTON GROVE MARC wb  MARC  POINT (1262301.561 534835.775)\n",
       "24      5554        GAITHERSBURG MARC wb  MARC  POINT (1257495.478 537192.171)\n",
       "25      5555  METROPOLITAN GROVE MARC wb  MARC  POINT (1247924.561 540222.309)\n",
       "26      5556          GERMANTOWN MARC wb  MARC  POINT (1235908.726 548534.480)\n",
       "27      5557               BOYDS MARC wb  MARC  POINT (1223618.090 552727.291)\n",
       "28      5558         BARNESVILLE MARC wb  MARC  POINT (1204023.523 562131.541)\n",
       "29      5559           DICKERSON MARC wb  MARC  POINT (1192198.204 566063.884)"
      ]
     },
     "execution_count": 19,
     "metadata": {},
     "output_type": "execute_result"
    }
   ],
   "source": [
    "#Time to clip the MARC stops down to the BUFFERED Montgomery County boundaries now that all boundaries are in same EPSG\n",
    "MARC_Mont_Clip = gpd.clip(MARC_All_MD_SHP, Montgomery_SHP_MD_1miBuff)\n",
    "MARC_Mont_Clip #note that including these in actually included a handful of facilities just outside of Montgomery County boundaries"
   ]
  },
  {
   "cell_type": "code",
   "execution_count": 20,
   "metadata": {},
   "outputs": [
    {
     "data": {
      "text/plain": [
       "Text(0.5, 1.0, 'MARC Stops, Within 1 mile of Montgomery County')"
      ]
     },
     "execution_count": 20,
     "metadata": {},
     "output_type": "execute_result"
    },
    {
     "data": {
      "image/png": "[encoded data removed]",
      "text/plain": [
       "<Figure size 432x288 with 1 Axes>"
      ]
     },
     "metadata": {
      "needs_background": "light"
     },
     "output_type": "display_data"
    }
   ],
   "source": [
    "MARC_Mont_Clip_plot = MARC_Mont_Clip.plot()\n",
    "MARC_Mont_Clip_plot.set_title(\"MARC Stops, Within 1 mile of Montgomery County\") "
   ]
  },
  {
   "cell_type": "code",
   "execution_count": 21,
   "metadata": {},
   "outputs": [
    {
     "data": {
      "image/png": "[encoded data removed]",
      "text/plain": [
       "<Figure size 864x576 with 1 Axes>"
      ]
     },
     "metadata": {
      "needs_background": "light"
     },
     "output_type": "display_data"
    }
   ],
   "source": [
    "#Showing comparison by adding multiple shapefiles - old vs. new, along with MD county boundaries\n",
    "\n",
    "fig, ax = plt.subplots(figsize=(12, 8))\n",
    "Montgomery_SHP_MD_1miBuff.boundary.plot(ax=ax, color=\"gray\")\n",
    "Montgomery_SHP_MD.boundary.plot(ax=ax, color=\"red\")\n",
    "#MARC_Mont_Clip.plot(ax=ax,color=\"green\")\n",
    "MARC_All_MD_SHP.plot(ax=ax,color=\"green\") #just checking the plotting here - \n",
    "# if anything was between two boundaries, we messed up\n",
    "MARC_Mont_Clip.plot(ax=ax, color=\"purple\")\n",
    "ax.set_title(\"Visual Verification: MARC Stations and Montgomery County Buffers\", fontsize=20)\n",
    "ax.set_axis_off()\n",
    "plt.show()"
   ]
  },
  {
   "cell_type": "code",
   "execution_count": 22,
   "metadata": {},
   "outputs": [],
   "source": [
    "# MARC stations clipped to Montgomery, reprojected\n",
    "# MARC_Mont_Clip.to_file(\"MARC_Mont_Clip.shp\")\n",
    "# MARC_Mont_Clip.to_file(\"MARC_Mont_Clip.geojson\", driver='GeoJSON')"
   ]
  },
  {
   "cell_type": "markdown",
   "metadata": {},
   "source": [
    "## Metro Station File Processing"
   ]
  },
  {
   "cell_type": "code",
   "execution_count": 23,
   "metadata": {},
   "outputs": [
    {
     "data": {
      "text/html": [
       "<div>\n",
       "<style scoped>\n",
       "    .dataframe tbody tr th:only-of-type {\n",
       "        vertical-align: middle;\n",
       "    }\n",
       "\n",
       "    .dataframe tbody tr th {\n",
       "        vertical-align: top;\n",
       "    }\n",
       "\n",
       "    .dataframe thead th {\n",
       "        text-align: right;\n",
       "    }\n",
       "</style>\n",
       "<table border=\"1\" class=\"dataframe\">\n",
       "  <thead>\n",
       "    <tr style=\"text-align: right;\">\n",
       "      <th></th>\n",
       "      <th>OBJECTID</th>\n",
       "      <th>GIS_ID</th>\n",
       "      <th>NAME</th>\n",
       "      <th>WEB_URL</th>\n",
       "      <th>ADDRESS</th>\n",
       "      <th>LINE</th>\n",
       "      <th>TRAININFO_</th>\n",
       "      <th>geometry</th>\n",
       "    </tr>\n",
       "  </thead>\n",
       "  <tbody>\n",
       "    <tr>\n",
       "      <th>0</th>\n",
       "      <td>40</td>\n",
       "      <td>mstn_5</td>\n",
       "      <td>Takoma</td>\n",
       "      <td>https://www.wmata.com/rider-guide/stations/tak...</td>\n",
       "      <td>327 CEDAR STREET NW, WASHINGTON, DC</td>\n",
       "      <td>red</td>\n",
       "      <td>https://www.wmata.com/js/nexttrain/nexttrain.h...</td>\n",
       "      <td>POINT (1307164.443 476874.648)</td>\n",
       "    </tr>\n",
       "    <tr>\n",
       "      <th>1</th>\n",
       "      <td>41</td>\n",
       "      <td>mstn_6</td>\n",
       "      <td>Glenmont</td>\n",
       "      <td>https://www.wmata.com/rider-guide/stations/gle...</td>\n",
       "      <td>12501 GEORGIA AVENUE, SILVER SPRING, MD</td>\n",
       "      <td>red</td>\n",
       "      <td>https://www.wmata.com/js/nexttrain/nexttrain.h...</td>\n",
       "      <td>POINT (1297124.470 508093.075)</td>\n",
       "    </tr>\n",
       "    <tr>\n",
       "      <th>2</th>\n",
       "      <td>42</td>\n",
       "      <td>mstn_7</td>\n",
       "      <td>Wheaton</td>\n",
       "      <td>https://www.wmata.com/rider-guide/stations/whe...</td>\n",
       "      <td>11171 GEORGIA AVENUE, SILVER SPRING, MD</td>\n",
       "      <td>red</td>\n",
       "      <td>https://www.wmata.com/js/nexttrain/nexttrain.h...</td>\n",
       "      <td>POINT (1298099.318 499258.016)</td>\n",
       "    </tr>\n",
       "    <tr>\n",
       "      <th>3</th>\n",
       "      <td>43</td>\n",
       "      <td>mstn_8</td>\n",
       "      <td>Forest Glen</td>\n",
       "      <td>https://www.wmata.com/rider-guide/stations/for...</td>\n",
       "      <td>9730 GEORGIA AVENUE, FOREST GLEN, MD</td>\n",
       "      <td>red</td>\n",
       "      <td>https://www.wmata.com/js/nexttrain/nexttrain.h...</td>\n",
       "      <td>POINT (1300137.862 491035.755)</td>\n",
       "    </tr>\n",
       "    <tr>\n",
       "      <th>4</th>\n",
       "      <td>44</td>\n",
       "      <td>mstn_9</td>\n",
       "      <td>Silver Spring</td>\n",
       "      <td>https://www.wmata.com/rider-guide/stations/sil...</td>\n",
       "      <td>8400 COLESVILLE ROAD, SILVER SPRING, MD</td>\n",
       "      <td>red</td>\n",
       "      <td>https://www.wmata.com/js/nexttrain/nexttrain.h...</td>\n",
       "      <td>POINT (1303516.082 483384.271)</td>\n",
       "    </tr>\n",
       "    <tr>\n",
       "      <th>5</th>\n",
       "      <td>46</td>\n",
       "      <td>mstn_11</td>\n",
       "      <td>Fort Totten</td>\n",
       "      <td>https://www.wmata.com/rider-guide/stations/for...</td>\n",
       "      <td>550 GALLOWAY STREET NE, WASHINGTON, DC</td>\n",
       "      <td>red, green,yellow</td>\n",
       "      <td>https://www.wmata.com/js/nexttrain/nexttrain.h...</td>\n",
       "      <td>POINT (1311705.325 468048.863)</td>\n",
       "    </tr>\n",
       "    <tr>\n",
       "      <th>6</th>\n",
       "      <td>67</td>\n",
       "      <td>mstn_32</td>\n",
       "      <td>Tenleytown-AU</td>\n",
       "      <td>https://www.wmata.com/rider-guide/stations/ten...</td>\n",
       "      <td>4501 WISCONSIN AVENUE NW, WASHINGTON, DC</td>\n",
       "      <td>red</td>\n",
       "      <td>https://www.wmata.com/js/nexttrain/nexttrain.h...</td>\n",
       "      <td>POINT (1289697.450 466967.823)</td>\n",
       "    </tr>\n",
       "    <tr>\n",
       "      <th>7</th>\n",
       "      <td>71</td>\n",
       "      <td>mstn_36</td>\n",
       "      <td>Friendship Heights</td>\n",
       "      <td>https://www.wmata.com/rider-guide/stations/fri...</td>\n",
       "      <td>5337 WISCONSIN AVENUE NW, WASHINGTON, DC</td>\n",
       "      <td>red</td>\n",
       "      <td>https://www.wmata.com/js/nexttrain/nexttrain.h...</td>\n",
       "      <td>POINT (1288162.905 470841.564)</td>\n",
       "    </tr>\n",
       "    <tr>\n",
       "      <th>8</th>\n",
       "      <td>72</td>\n",
       "      <td>mstn_37</td>\n",
       "      <td>Shady Grove</td>\n",
       "      <td>https://www.wmata.com/rider-guide/stations/sha...</td>\n",
       "      <td>15903 SOMERVILLE DRIVE, DERWOOD, MD</td>\n",
       "      <td>red</td>\n",
       "      <td>https://www.wmata.com/js/nexttrain/nexttrain.h...</td>\n",
       "      <td>POINT (1265624.723 529307.418)</td>\n",
       "    </tr>\n",
       "    <tr>\n",
       "      <th>9</th>\n",
       "      <td>73</td>\n",
       "      <td>mstn_38</td>\n",
       "      <td>Rockville</td>\n",
       "      <td>https://www.wmata.com/rider-guide/stations/roc...</td>\n",
       "      <td>251 HUNGERFORD DRIVE, ROCKVILLE, MD</td>\n",
       "      <td>red</td>\n",
       "      <td>https://www.wmata.com/js/nexttrain/nexttrain.h...</td>\n",
       "      <td>POINT (1270853.245 516330.375)</td>\n",
       "    </tr>\n",
       "    <tr>\n",
       "      <th>10</th>\n",
       "      <td>74</td>\n",
       "      <td>mstn_39</td>\n",
       "      <td>Twinbrook</td>\n",
       "      <td>https://www.wmata.com/rider-guide/stations/twi...</td>\n",
       "      <td>1600 CHAPMAN AVENUE, ROCKVILLE, MD</td>\n",
       "      <td>red</td>\n",
       "      <td>https://www.wmata.com/js/nexttrain/nexttrain.h...</td>\n",
       "      <td>POINT (1278026.377 508360.401)</td>\n",
       "    </tr>\n",
       "    <tr>\n",
       "      <th>11</th>\n",
       "      <td>75</td>\n",
       "      <td>mstn_40</td>\n",
       "      <td>White Flint</td>\n",
       "      <td>https://www.wmata.com/rider-guide/stations/whi...</td>\n",
       "      <td>5500 MARINELLI ROAD, ROCKVILLE, MD</td>\n",
       "      <td>red</td>\n",
       "      <td>https://www.wmata.com/js/nexttrain/nexttrain.h...</td>\n",
       "      <td>POINT (1280288.099 503143.356)</td>\n",
       "    </tr>\n",
       "    <tr>\n",
       "      <th>12</th>\n",
       "      <td>76</td>\n",
       "      <td>mstn_41</td>\n",
       "      <td>Grosvenor-Strathmore</td>\n",
       "      <td>https://www.wmata.com/rider-guide/stations/gro...</td>\n",
       "      <td>10300 ROCKVILLE PIKE, BETHESDA, MD</td>\n",
       "      <td>red</td>\n",
       "      <td>https://www.wmata.com/js/nexttrain/nexttrain.h...</td>\n",
       "      <td>POINT (1282830.641 496263.188)</td>\n",
       "    </tr>\n",
       "    <tr>\n",
       "      <th>13</th>\n",
       "      <td>77</td>\n",
       "      <td>mstn_42</td>\n",
       "      <td>Medical Center</td>\n",
       "      <td>https://www.wmata.com/rider-guide/stations/med...</td>\n",
       "      <td>8810 ROCKVILLE PIKE, BETHESDA, MD</td>\n",
       "      <td>red</td>\n",
       "      <td>https://www.wmata.com/js/nexttrain/nexttrain.h...</td>\n",
       "      <td>POINT (1284778.732 485621.647)</td>\n",
       "    </tr>\n",
       "    <tr>\n",
       "      <th>14</th>\n",
       "      <td>78</td>\n",
       "      <td>mstn_43</td>\n",
       "      <td>Bethesda</td>\n",
       "      <td>https://www.wmata.com/rider-guide/stations/bet...</td>\n",
       "      <td>7450 WISCONSIN AVENUE, BETHESDA, MD</td>\n",
       "      <td>red</td>\n",
       "      <td>https://www.wmata.com/js/nexttrain/nexttrain.h...</td>\n",
       "      <td>POINT (1285575.149 479916.334)</td>\n",
       "    </tr>\n",
       "  </tbody>\n",
       "</table>\n",
       "</div>"
      ],
      "text/plain": [
       "    OBJECTID   GIS_ID                  NAME  \\\n",
       "0         40   mstn_5                Takoma   \n",
       "1         41   mstn_6              Glenmont   \n",
       "2         42   mstn_7               Wheaton   \n",
       "3         43   mstn_8           Forest Glen   \n",
       "4         44   mstn_9         Silver Spring   \n",
       "5         46  mstn_11           Fort Totten   \n",
       "6         67  mstn_32         Tenleytown-AU   \n",
       "7         71  mstn_36    Friendship Heights   \n",
       "8         72  mstn_37           Shady Grove   \n",
       "9         73  mstn_38             Rockville   \n",
       "10        74  mstn_39             Twinbrook   \n",
       "11        75  mstn_40           White Flint   \n",
       "12        76  mstn_41  Grosvenor-Strathmore   \n",
       "13        77  mstn_42        Medical Center   \n",
       "14        78  mstn_43              Bethesda   \n",
       "\n",
       "                                              WEB_URL  \\\n",
       "0   https://www.wmata.com/rider-guide/stations/tak...   \n",
       "1   https://www.wmata.com/rider-guide/stations/gle...   \n",
       "2   https://www.wmata.com/rider-guide/stations/whe...   \n",
       "3   https://www.wmata.com/rider-guide/stations/for...   \n",
       "4   https://www.wmata.com/rider-guide/stations/sil...   \n",
       "5   https://www.wmata.com/rider-guide/stations/for...   \n",
       "6   https://www.wmata.com/rider-guide/stations/ten...   \n",
       "7   https://www.wmata.com/rider-guide/stations/fri...   \n",
       "8   https://www.wmata.com/rider-guide/stations/sha...   \n",
       "9   https://www.wmata.com/rider-guide/stations/roc...   \n",
       "10  https://www.wmata.com/rider-guide/stations/twi...   \n",
       "11  https://www.wmata.com/rider-guide/stations/whi...   \n",
       "12  https://www.wmata.com/rider-guide/stations/gro...   \n",
       "13  https://www.wmata.com/rider-guide/stations/med...   \n",
       "14  https://www.wmata.com/rider-guide/stations/bet...   \n",
       "\n",
       "                                     ADDRESS               LINE  \\\n",
       "0        327 CEDAR STREET NW, WASHINGTON, DC                red   \n",
       "1    12501 GEORGIA AVENUE, SILVER SPRING, MD                red   \n",
       "2    11171 GEORGIA AVENUE, SILVER SPRING, MD                red   \n",
       "3       9730 GEORGIA AVENUE, FOREST GLEN, MD                red   \n",
       "4    8400 COLESVILLE ROAD, SILVER SPRING, MD                red   \n",
       "5     550 GALLOWAY STREET NE, WASHINGTON, DC  red, green,yellow   \n",
       "6   4501 WISCONSIN AVENUE NW, WASHINGTON, DC                red   \n",
       "7   5337 WISCONSIN AVENUE NW, WASHINGTON, DC                red   \n",
       "8        15903 SOMERVILLE DRIVE, DERWOOD, MD                red   \n",
       "9        251 HUNGERFORD DRIVE, ROCKVILLE, MD                red   \n",
       "10        1600 CHAPMAN AVENUE, ROCKVILLE, MD                red   \n",
       "11        5500 MARINELLI ROAD, ROCKVILLE, MD                red   \n",
       "12        10300 ROCKVILLE PIKE, BETHESDA, MD                red   \n",
       "13         8810 ROCKVILLE PIKE, BETHESDA, MD                red   \n",
       "14       7450 WISCONSIN AVENUE, BETHESDA, MD                red   \n",
       "\n",
       "                                           TRAININFO_  \\\n",
       "0   https://www.wmata.com/js/nexttrain/nexttrain.h...   \n",
       "1   https://www.wmata.com/js/nexttrain/nexttrain.h...   \n",
       "2   https://www.wmata.com/js/nexttrain/nexttrain.h...   \n",
       "3   https://www.wmata.com/js/nexttrain/nexttrain.h...   \n",
       "4   https://www.wmata.com/js/nexttrain/nexttrain.h...   \n",
       "5   https://www.wmata.com/js/nexttrain/nexttrain.h...   \n",
       "6   https://www.wmata.com/js/nexttrain/nexttrain.h...   \n",
       "7   https://www.wmata.com/js/nexttrain/nexttrain.h...   \n",
       "8   https://www.wmata.com/js/nexttrain/nexttrain.h...   \n",
       "9   https://www.wmata.com/js/nexttrain/nexttrain.h...   \n",
       "10  https://www.wmata.com/js/nexttrain/nexttrain.h...   \n",
       "11  https://www.wmata.com/js/nexttrain/nexttrain.h...   \n",
       "12  https://www.wmata.com/js/nexttrain/nexttrain.h...   \n",
       "13  https://www.wmata.com/js/nexttrain/nexttrain.h...   \n",
       "14  https://www.wmata.com/js/nexttrain/nexttrain.h...   \n",
       "\n",
       "                          geometry  \n",
       "0   POINT (1307164.443 476874.648)  \n",
       "1   POINT (1297124.470 508093.075)  \n",
       "2   POINT (1298099.318 499258.016)  \n",
       "3   POINT (1300137.862 491035.755)  \n",
       "4   POINT (1303516.082 483384.271)  \n",
       "5   POINT (1311705.325 468048.863)  \n",
       "6   POINT (1289697.450 466967.823)  \n",
       "7   POINT (1288162.905 470841.564)  \n",
       "8   POINT (1265624.723 529307.418)  \n",
       "9   POINT (1270853.245 516330.375)  \n",
       "10  POINT (1278026.377 508360.401)  \n",
       "11  POINT (1280288.099 503143.356)  \n",
       "12  POINT (1282830.641 496263.188)  \n",
       "13  POINT (1284778.732 485621.647)  \n",
       "14  POINT (1285575.149 479916.334)  "
      ]
     },
     "execution_count": 23,
     "metadata": {},
     "output_type": "execute_result"
    }
   ],
   "source": [
    "Metro_SHP = gpd.GeoDataFrame.from_file(metro_dir)\n",
    "Metro_SHP"
   ]
  },
  {
   "cell_type": "code",
   "execution_count": 24,
   "metadata": {},
   "outputs": [
    {
     "data": {
      "text/plain": [
       "<AxesSubplot:>"
      ]
     },
     "execution_count": 24,
     "metadata": {},
     "output_type": "execute_result"
    },
    {
     "data": {
      "image/png": "[encoded data removed]",
      "text/plain": [
       "<Figure size 432x288 with 1 Axes>"
      ]
     },
     "metadata": {
      "needs_background": "light"
     },
     "output_type": "display_data"
    }
   ],
   "source": [
    "Metro_plot = Metro_SHP.plot() #agin, lat/long - so WGS84, and needs to be reprojected\n",
    "Metro_plot"
   ]
  },
  {
   "cell_type": "code",
   "execution_count": 25,
   "metadata": {},
   "outputs": [
    {
     "data": {
      "text/plain": [
       "<Projected CRS: EPSG:2248>\n",
       "Name: NAD83 / Maryland (ftUS)\n",
       "Axis Info [cartesian]:\n",
       "- X[east]: Easting (US survey foot)\n",
       "- Y[north]: Northing (US survey foot)\n",
       "Area of Use:\n",
       "- name: USA - Maryland\n",
       "- bounds: (-79.49, 37.97, -74.97, 39.73)\n",
       "Coordinate Operation:\n",
       "- name: SPCS83 Maryland zone (US Survey feet)\n",
       "- method: Lambert Conic Conformal (2SP)\n",
       "Datum: North American Datum 1983\n",
       "- Ellipsoid: GRS 1980\n",
       "- Prime Meridian: Greenwich"
      ]
     },
     "execution_count": 25,
     "metadata": {},
     "output_type": "execute_result"
    }
   ],
   "source": [
    "Metro_SHP.crs"
   ]
  },
  {
   "cell_type": "code",
   "execution_count": 26,
   "metadata": {},
   "outputs": [
    {
     "data": {
      "text/plain": [
       "<Projected CRS: EPSG:2248>\n",
       "Name: NAD83 / Maryland (ftUS)\n",
       "Axis Info [cartesian]:\n",
       "- X[east]: Easting (US survey foot)\n",
       "- Y[north]: Northing (US survey foot)\n",
       "Area of Use:\n",
       "- name: USA - Maryland\n",
       "- bounds: (-79.49, 37.97, -74.97, 39.73)\n",
       "Coordinate Operation:\n",
       "- name: SPCS83 Maryland zone (US Survey feet)\n",
       "- method: Lambert Conic Conformal (2SP)\n",
       "Datum: North American Datum 1983\n",
       "- Ellipsoid: GRS 1980\n",
       "- Prime Meridian: Greenwich"
      ]
     },
     "execution_count": 26,
     "metadata": {},
     "output_type": "execute_result"
    }
   ],
   "source": [
    "#reproject, check and plot\n",
    "Metro_SHP_MD = Metro_SHP.to_crs(MD_state_plane_proj)\n",
    "Metro_SHP_MD.crs"
   ]
  },
  {
   "cell_type": "code",
   "execution_count": 27,
   "metadata": {},
   "outputs": [
    {
     "data": {
      "text/plain": [
       "<AxesSubplot:>"
      ]
     },
     "execution_count": 27,
     "metadata": {},
     "output_type": "execute_result"
    },
    {
     "data": {
      "image/png": "[encoded data removed]",
      "text/plain": [
       "<Figure size 432x288 with 1 Axes>"
      ]
     },
     "metadata": {
      "needs_background": "light"
     },
     "output_type": "display_data"
    }
   ],
   "source": [
    "Metro_SHP_MD.plot()"
   ]
  },
  {
   "cell_type": "code",
   "execution_count": 28,
   "metadata": {},
   "outputs": [
    {
     "data": {
      "text/html": [
       "<div>\n",
       "<style scoped>\n",
       "    .dataframe tbody tr th:only-of-type {\n",
       "        vertical-align: middle;\n",
       "    }\n",
       "\n",
       "    .dataframe tbody tr th {\n",
       "        vertical-align: top;\n",
       "    }\n",
       "\n",
       "    .dataframe thead th {\n",
       "        text-align: right;\n",
       "    }\n",
       "</style>\n",
       "<table border=\"1\" class=\"dataframe\">\n",
       "  <thead>\n",
       "    <tr style=\"text-align: right;\">\n",
       "      <th></th>\n",
       "      <th>OBJECTID</th>\n",
       "      <th>GIS_ID</th>\n",
       "      <th>NAME</th>\n",
       "      <th>WEB_URL</th>\n",
       "      <th>ADDRESS</th>\n",
       "      <th>LINE</th>\n",
       "      <th>TRAININFO_</th>\n",
       "      <th>geometry</th>\n",
       "    </tr>\n",
       "  </thead>\n",
       "  <tbody>\n",
       "    <tr>\n",
       "      <th>0</th>\n",
       "      <td>1</td>\n",
       "      <td>mstn_57</td>\n",
       "      <td>Archives-Navy Mem'l</td>\n",
       "      <td>https://www.wmata.com/rider-guide/stations/arc...</td>\n",
       "      <td>701 PENNSYLVANIA AVENUE NW, WASHINGTON, DC</td>\n",
       "      <td>green, yellow</td>\n",
       "      <td>https://www.wmata.com/js/nexttrain/nexttrain.h...</td>\n",
       "      <td>POINT (-77.02192 38.89367)</td>\n",
       "    </tr>\n",
       "    <tr>\n",
       "      <th>1</th>\n",
       "      <td>2</td>\n",
       "      <td>mstn_58</td>\n",
       "      <td>Waterfront</td>\n",
       "      <td>https://www.wmata.com/rider-guide/stations/wat...</td>\n",
       "      <td>399 M STREET SW, WASHINGTON, DC</td>\n",
       "      <td>green</td>\n",
       "      <td>https://www.wmata.com/js/nexttrain/nexttrain.h...</td>\n",
       "      <td>POINT (-77.01751 38.87647)</td>\n",
       "    </tr>\n",
       "    <tr>\n",
       "      <th>2</th>\n",
       "      <td>3</td>\n",
       "      <td>mstn_59</td>\n",
       "      <td>Ronald Reagan Washington National Airport</td>\n",
       "      <td>https://www.wmata.com/rider-guide/stations/nat...</td>\n",
       "      <td>2400 S. SMITH BLVD., ARLINGTON, VA</td>\n",
       "      <td>blue, yellow</td>\n",
       "      <td>https://www.wmata.com/js/nexttrain/nexttrain.h...</td>\n",
       "      <td>POINT (-77.04404 38.85342)</td>\n",
       "    </tr>\n",
       "    <tr>\n",
       "      <th>3</th>\n",
       "      <td>4</td>\n",
       "      <td>mstn_60</td>\n",
       "      <td>Van Dorn Street</td>\n",
       "      <td>https://www.wmata.com/rider-guide/stations/van...</td>\n",
       "      <td>5690 EISENHOWER AVENUE, ALEXANDRIA, VA</td>\n",
       "      <td>blue, yellow</td>\n",
       "      <td>https://www.wmata.com/js/nexttrain/nexttrain.h...</td>\n",
       "      <td>POINT (-77.12911 38.79932)</td>\n",
       "    </tr>\n",
       "    <tr>\n",
       "      <th>4</th>\n",
       "      <td>5</td>\n",
       "      <td>mstn_61</td>\n",
       "      <td>Franconia-Springfield</td>\n",
       "      <td>https://www.wmata.com/rider-guide/stations/fra...</td>\n",
       "      <td>6880 FRONTIER DRIVE, SPRINGFIELD, VA</td>\n",
       "      <td>blue, yellow</td>\n",
       "      <td>https://www.wmata.com/js/nexttrain/nexttrain.h...</td>\n",
       "      <td>POINT (-77.16797 38.76653)</td>\n",
       "    </tr>\n",
       "    <tr>\n",
       "      <th>...</th>\n",
       "      <td>...</td>\n",
       "      <td>...</td>\n",
       "      <td>...</td>\n",
       "      <td>...</td>\n",
       "      <td>...</td>\n",
       "      <td>...</td>\n",
       "      <td>...</td>\n",
       "      <td>...</td>\n",
       "    </tr>\n",
       "    <tr>\n",
       "      <th>86</th>\n",
       "      <td>87</td>\n",
       "      <td>mstn_52</td>\n",
       "      <td>Woodley Park-Zoo Adams Morgan</td>\n",
       "      <td>https://www.wmata.com/rider-guide/stations/woo...</td>\n",
       "      <td>2700 24TH STREET NW, WASHINGTON, DC</td>\n",
       "      <td>red</td>\n",
       "      <td>https://www.wmata.com/js/nexttrain/nexttrain.h...</td>\n",
       "      <td>POINT (-77.05242 38.92509)</td>\n",
       "    </tr>\n",
       "    <tr>\n",
       "      <th>87</th>\n",
       "      <td>88</td>\n",
       "      <td>mstn_53</td>\n",
       "      <td>L'Enfant Plaza</td>\n",
       "      <td>https://www.wmata.com/rider-guide/stations/len...</td>\n",
       "      <td>600 MARYLAND AVENUE SW, WASHINGTON, DC</td>\n",
       "      <td>grn, yllw, orange, blue, slvr</td>\n",
       "      <td>https://www.wmata.com/js/nexttrain/nexttrain.h...</td>\n",
       "      <td>POINT (-77.02191 38.88485)</td>\n",
       "    </tr>\n",
       "    <tr>\n",
       "      <th>88</th>\n",
       "      <td>89</td>\n",
       "      <td>mstn_54</td>\n",
       "      <td>Smithsonian</td>\n",
       "      <td>https://www.wmata.com/rider-guide/stations/smi...</td>\n",
       "      <td>1200 INDEPENDENCE AVENUE SW, WASHINGTON, DC</td>\n",
       "      <td>blue, orange, silver</td>\n",
       "      <td>https://www.wmata.com/js/nexttrain/nexttrain.h...</td>\n",
       "      <td>POINT (-77.02807 38.88803)</td>\n",
       "    </tr>\n",
       "    <tr>\n",
       "      <th>89</th>\n",
       "      <td>90</td>\n",
       "      <td>mstn_55</td>\n",
       "      <td>Pentagon City</td>\n",
       "      <td>https://www.wmata.com/rider-guide/stations/pen...</td>\n",
       "      <td>1250 SOUTH HAYES ST., ARLINGTON, VA</td>\n",
       "      <td>blue, yellow</td>\n",
       "      <td>https://www.wmata.com/js/nexttrain/nexttrain.h...</td>\n",
       "      <td>POINT (-77.05954 38.86189)</td>\n",
       "    </tr>\n",
       "    <tr>\n",
       "      <th>90</th>\n",
       "      <td>91</td>\n",
       "      <td>mstn_56</td>\n",
       "      <td>Federal Triangle</td>\n",
       "      <td>https://www.wmata.com/rider-guide/stations/fed...</td>\n",
       "      <td>302 12TH STREET NW, WASHINGTON, DC</td>\n",
       "      <td>blue, orange, silver</td>\n",
       "      <td>https://www.wmata.com/js/nexttrain/nexttrain.h...</td>\n",
       "      <td>POINT (-77.02813 38.89319)</td>\n",
       "    </tr>\n",
       "  </tbody>\n",
       "</table>\n",
       "<p>91 rows × 8 columns</p>\n",
       "</div>"
      ],
      "text/plain": [
       "    OBJECTID   GIS_ID                                       NAME  \\\n",
       "0          1  mstn_57                        Archives-Navy Mem'l   \n",
       "1          2  mstn_58                                 Waterfront   \n",
       "2          3  mstn_59  Ronald Reagan Washington National Airport   \n",
       "3          4  mstn_60                            Van Dorn Street   \n",
       "4          5  mstn_61                      Franconia-Springfield   \n",
       "..       ...      ...                                        ...   \n",
       "86        87  mstn_52              Woodley Park-Zoo Adams Morgan   \n",
       "87        88  mstn_53                             L'Enfant Plaza   \n",
       "88        89  mstn_54                                Smithsonian   \n",
       "89        90  mstn_55                              Pentagon City   \n",
       "90        91  mstn_56                           Federal Triangle   \n",
       "\n",
       "                                              WEB_URL  \\\n",
       "0   https://www.wmata.com/rider-guide/stations/arc...   \n",
       "1   https://www.wmata.com/rider-guide/stations/wat...   \n",
       "2   https://www.wmata.com/rider-guide/stations/nat...   \n",
       "3   https://www.wmata.com/rider-guide/stations/van...   \n",
       "4   https://www.wmata.com/rider-guide/stations/fra...   \n",
       "..                                                ...   \n",
       "86  https://www.wmata.com/rider-guide/stations/woo...   \n",
       "87  https://www.wmata.com/rider-guide/stations/len...   \n",
       "88  https://www.wmata.com/rider-guide/stations/smi...   \n",
       "89  https://www.wmata.com/rider-guide/stations/pen...   \n",
       "90  https://www.wmata.com/rider-guide/stations/fed...   \n",
       "\n",
       "                                        ADDRESS  \\\n",
       "0    701 PENNSYLVANIA AVENUE NW, WASHINGTON, DC   \n",
       "1               399 M STREET SW, WASHINGTON, DC   \n",
       "2            2400 S. SMITH BLVD., ARLINGTON, VA   \n",
       "3        5690 EISENHOWER AVENUE, ALEXANDRIA, VA   \n",
       "4          6880 FRONTIER DRIVE, SPRINGFIELD, VA   \n",
       "..                                          ...   \n",
       "86          2700 24TH STREET NW, WASHINGTON, DC   \n",
       "87       600 MARYLAND AVENUE SW, WASHINGTON, DC   \n",
       "88  1200 INDEPENDENCE AVENUE SW, WASHINGTON, DC   \n",
       "89          1250 SOUTH HAYES ST., ARLINGTON, VA   \n",
       "90           302 12TH STREET NW, WASHINGTON, DC   \n",
       "\n",
       "                             LINE  \\\n",
       "0                   green, yellow   \n",
       "1                           green   \n",
       "2                    blue, yellow   \n",
       "3                    blue, yellow   \n",
       "4                    blue, yellow   \n",
       "..                            ...   \n",
       "86                            red   \n",
       "87  grn, yllw, orange, blue, slvr   \n",
       "88           blue, orange, silver   \n",
       "89                   blue, yellow   \n",
       "90           blue, orange, silver   \n",
       "\n",
       "                                           TRAININFO_  \\\n",
       "0   https://www.wmata.com/js/nexttrain/nexttrain.h...   \n",
       "1   https://www.wmata.com/js/nexttrain/nexttrain.h...   \n",
       "2   https://www.wmata.com/js/nexttrain/nexttrain.h...   \n",
       "3   https://www.wmata.com/js/nexttrain/nexttrain.h...   \n",
       "4   https://www.wmata.com/js/nexttrain/nexttrain.h...   \n",
       "..                                                ...   \n",
       "86  https://www.wmata.com/js/nexttrain/nexttrain.h...   \n",
       "87  https://www.wmata.com/js/nexttrain/nexttrain.h...   \n",
       "88  https://www.wmata.com/js/nexttrain/nexttrain.h...   \n",
       "89  https://www.wmata.com/js/nexttrain/nexttrain.h...   \n",
       "90  https://www.wmata.com/js/nexttrain/nexttrain.h...   \n",
       "\n",
       "                      geometry  \n",
       "0   POINT (-77.02192 38.89367)  \n",
       "1   POINT (-77.01751 38.87647)  \n",
       "2   POINT (-77.04404 38.85342)  \n",
       "3   POINT (-77.12911 38.79932)  \n",
       "4   POINT (-77.16797 38.76653)  \n",
       "..                         ...  \n",
       "86  POINT (-77.05242 38.92509)  \n",
       "87  POINT (-77.02191 38.88485)  \n",
       "88  POINT (-77.02807 38.88803)  \n",
       "89  POINT (-77.05954 38.86189)  \n",
       "90  POINT (-77.02813 38.89319)  \n",
       "\n",
       "[91 rows x 8 columns]"
      ]
     },
     "execution_count": 28,
     "metadata": {},
     "output_type": "execute_result"
    }
   ],
   "source": [
    "#These are subset down to Montgomery proper - need to see what happens with the 1-mile buffer\n",
    "Metro_All_path = metro_dir + str('/Metro_Stations_Regional')\n",
    "Metro_All_path\n",
    "\n",
    "Metro_All_SHP = gpd.GeoDataFrame.from_file(Metro_All_path)\n",
    "Metro_All_SHP"
   ]
  },
  {
   "cell_type": "code",
   "execution_count": 29,
   "metadata": {},
   "outputs": [
    {
     "data": {
      "text/plain": [
       "<Geographic 2D CRS: EPSG:4326>\n",
       "Name: WGS 84\n",
       "Axis Info [ellipsoidal]:\n",
       "- Lat[north]: Geodetic latitude (degree)\n",
       "- Lon[east]: Geodetic longitude (degree)\n",
       "Area of Use:\n",
       "- name: World\n",
       "- bounds: (-180.0, -90.0, 180.0, 90.0)\n",
       "Datum: World Geodetic System 1984\n",
       "- Ellipsoid: WGS 84\n",
       "- Prime Meridian: Greenwich"
      ]
     },
     "execution_count": 29,
     "metadata": {},
     "output_type": "execute_result"
    }
   ],
   "source": [
    "#check the CRS of the original file - should be lat/long (WGS84)\n",
    "Metro_All_SHP.crs"
   ]
  },
  {
   "cell_type": "code",
   "execution_count": 30,
   "metadata": {},
   "outputs": [
    {
     "data": {
      "text/plain": [
       "Text(0.5, 1.0, 'Metro Stops, All Locations, WGS 84')"
      ]
     },
     "execution_count": 30,
     "metadata": {},
     "output_type": "execute_result"
    },
    {
     "data": {
      "image/png": "[encoded data removed]",
      "text/plain": [
       "<Figure size 432x288 with 1 Axes>"
      ]
     },
     "metadata": {
      "needs_background": "light"
     },
     "output_type": "display_data"
    }
   ],
   "source": [
    "Metro_All_plot = Metro_All_SHP.plot()\n",
    "Metro_All_plot.set_title(\"Metro Stops, All Locations, WGS 84\") #see lots more stops - these need to be reprojected and then subset"
   ]
  },
  {
   "cell_type": "code",
   "execution_count": 31,
   "metadata": {},
   "outputs": [
    {
     "data": {
      "text/plain": [
       "<Projected CRS: EPSG:2248>\n",
       "Name: NAD83 / Maryland (ftUS)\n",
       "Axis Info [cartesian]:\n",
       "- X[east]: Easting (US survey foot)\n",
       "- Y[north]: Northing (US survey foot)\n",
       "Area of Use:\n",
       "- name: USA - Maryland\n",
       "- bounds: (-79.49, 37.97, -74.97, 39.73)\n",
       "Coordinate Operation:\n",
       "- name: SPCS83 Maryland zone (US Survey feet)\n",
       "- method: Lambert Conic Conformal (2SP)\n",
       "Datum: North American Datum 1983\n",
       "- Ellipsoid: GRS 1980\n",
       "- Prime Meridian: Greenwich"
      ]
     },
     "execution_count": 31,
     "metadata": {},
     "output_type": "execute_result"
    }
   ],
   "source": [
    "#reproject these Metro stops down to state plane, then clip\n",
    "Metro_All_MD_SHP = Metro_All_SHP.to_crs(MD_state_plane_proj)\n",
    "Metro_All_MD_SHP.crs #note that units are feet!!"
   ]
  },
  {
   "cell_type": "code",
   "execution_count": 32,
   "metadata": {},
   "outputs": [
    {
     "data": {
      "text/plain": [
       "Text(0.5, 1.0, 'Metro Stops, All Locations, MD State Plane')"
      ]
     },
     "execution_count": 32,
     "metadata": {},
     "output_type": "execute_result"
    },
    {
     "data": {
      "image/png": "[encoded data removed]",
      "text/plain": [
       "<Figure size 432x288 with 1 Axes>"
      ]
     },
     "metadata": {
      "needs_background": "light"
     },
     "output_type": "display_data"
    }
   ],
   "source": [
    "#plot and check\n",
    "Metro_All_MD_plot = Metro_All_MD_SHP.plot()\n",
    "Metro_All_MD_plot.set_title(\"Metro Stops, All Locations, MD State Plane\")"
   ]
  },
  {
   "cell_type": "code",
   "execution_count": 33,
   "metadata": {},
   "outputs": [
    {
     "data": {
      "text/html": [
       "<div>\n",
       "<style scoped>\n",
       "    .dataframe tbody tr th:only-of-type {\n",
       "        vertical-align: middle;\n",
       "    }\n",
       "\n",
       "    .dataframe tbody tr th {\n",
       "        vertical-align: top;\n",
       "    }\n",
       "\n",
       "    .dataframe thead th {\n",
       "        text-align: right;\n",
       "    }\n",
       "</style>\n",
       "<table border=\"1\" class=\"dataframe\">\n",
       "  <thead>\n",
       "    <tr style=\"text-align: right;\">\n",
       "      <th></th>\n",
       "      <th>OBJECTID</th>\n",
       "      <th>GIS_ID</th>\n",
       "      <th>NAME</th>\n",
       "      <th>WEB_URL</th>\n",
       "      <th>ADDRESS</th>\n",
       "      <th>LINE</th>\n",
       "      <th>TRAININFO_</th>\n",
       "      <th>geometry</th>\n",
       "    </tr>\n",
       "  </thead>\n",
       "  <tbody>\n",
       "    <tr>\n",
       "      <th>39</th>\n",
       "      <td>40</td>\n",
       "      <td>mstn_5</td>\n",
       "      <td>Takoma</td>\n",
       "      <td>https://www.wmata.com/rider-guide/stations/tak...</td>\n",
       "      <td>327 CEDAR STREET NW, WASHINGTON, DC</td>\n",
       "      <td>red</td>\n",
       "      <td>https://www.wmata.com/js/nexttrain/nexttrain.h...</td>\n",
       "      <td>POINT (1307164.443 476874.648)</td>\n",
       "    </tr>\n",
       "    <tr>\n",
       "      <th>40</th>\n",
       "      <td>41</td>\n",
       "      <td>mstn_6</td>\n",
       "      <td>Glenmont</td>\n",
       "      <td>https://www.wmata.com/rider-guide/stations/gle...</td>\n",
       "      <td>12501 GEORGIA AVENUE, SILVER SPRING, MD</td>\n",
       "      <td>red</td>\n",
       "      <td>https://www.wmata.com/js/nexttrain/nexttrain.h...</td>\n",
       "      <td>POINT (1297124.470 508093.075)</td>\n",
       "    </tr>\n",
       "    <tr>\n",
       "      <th>41</th>\n",
       "      <td>42</td>\n",
       "      <td>mstn_7</td>\n",
       "      <td>Wheaton</td>\n",
       "      <td>https://www.wmata.com/rider-guide/stations/whe...</td>\n",
       "      <td>11171 GEORGIA AVENUE, SILVER SPRING, MD</td>\n",
       "      <td>red</td>\n",
       "      <td>https://www.wmata.com/js/nexttrain/nexttrain.h...</td>\n",
       "      <td>POINT (1298099.318 499258.016)</td>\n",
       "    </tr>\n",
       "    <tr>\n",
       "      <th>42</th>\n",
       "      <td>43</td>\n",
       "      <td>mstn_8</td>\n",
       "      <td>Forest Glen</td>\n",
       "      <td>https://www.wmata.com/rider-guide/stations/for...</td>\n",
       "      <td>9730 GEORGIA AVENUE, FOREST GLEN, MD</td>\n",
       "      <td>red</td>\n",
       "      <td>https://www.wmata.com/js/nexttrain/nexttrain.h...</td>\n",
       "      <td>POINT (1300137.862 491035.755)</td>\n",
       "    </tr>\n",
       "    <tr>\n",
       "      <th>43</th>\n",
       "      <td>44</td>\n",
       "      <td>mstn_9</td>\n",
       "      <td>Silver Spring</td>\n",
       "      <td>https://www.wmata.com/rider-guide/stations/sil...</td>\n",
       "      <td>8400 COLESVILLE ROAD, SILVER SPRING, MD</td>\n",
       "      <td>red</td>\n",
       "      <td>https://www.wmata.com/js/nexttrain/nexttrain.h...</td>\n",
       "      <td>POINT (1303516.082 483384.271)</td>\n",
       "    </tr>\n",
       "    <tr>\n",
       "      <th>45</th>\n",
       "      <td>46</td>\n",
       "      <td>mstn_11</td>\n",
       "      <td>Fort Totten</td>\n",
       "      <td>https://www.wmata.com/rider-guide/stations/for...</td>\n",
       "      <td>550 GALLOWAY STREET NE, WASHINGTON, DC</td>\n",
       "      <td>red, green,yellow</td>\n",
       "      <td>https://www.wmata.com/js/nexttrain/nexttrain.h...</td>\n",
       "      <td>POINT (1311705.325 468048.863)</td>\n",
       "    </tr>\n",
       "    <tr>\n",
       "      <th>66</th>\n",
       "      <td>67</td>\n",
       "      <td>mstn_32</td>\n",
       "      <td>Tenleytown-AU</td>\n",
       "      <td>https://www.wmata.com/rider-guide/stations/ten...</td>\n",
       "      <td>4501 WISCONSIN AVENUE NW, WASHINGTON, DC</td>\n",
       "      <td>red</td>\n",
       "      <td>https://www.wmata.com/js/nexttrain/nexttrain.h...</td>\n",
       "      <td>POINT (1289697.450 466967.823)</td>\n",
       "    </tr>\n",
       "    <tr>\n",
       "      <th>70</th>\n",
       "      <td>71</td>\n",
       "      <td>mstn_36</td>\n",
       "      <td>Friendship Heights</td>\n",
       "      <td>https://www.wmata.com/rider-guide/stations/fri...</td>\n",
       "      <td>5337 WISCONSIN AVENUE NW, WASHINGTON, DC</td>\n",
       "      <td>red</td>\n",
       "      <td>https://www.wmata.com/js/nexttrain/nexttrain.h...</td>\n",
       "      <td>POINT (1288162.905 470841.564)</td>\n",
       "    </tr>\n",
       "    <tr>\n",
       "      <th>71</th>\n",
       "      <td>72</td>\n",
       "      <td>mstn_37</td>\n",
       "      <td>Shady Grove</td>\n",
       "      <td>https://www.wmata.com/rider-guide/stations/sha...</td>\n",
       "      <td>15903 SOMERVILLE DRIVE, DERWOOD, MD</td>\n",
       "      <td>red</td>\n",
       "      <td>https://www.wmata.com/js/nexttrain/nexttrain.h...</td>\n",
       "      <td>POINT (1265624.723 529307.418)</td>\n",
       "    </tr>\n",
       "    <tr>\n",
       "      <th>72</th>\n",
       "      <td>73</td>\n",
       "      <td>mstn_38</td>\n",
       "      <td>Rockville</td>\n",
       "      <td>https://www.wmata.com/rider-guide/stations/roc...</td>\n",
       "      <td>251 HUNGERFORD DRIVE, ROCKVILLE, MD</td>\n",
       "      <td>red</td>\n",
       "      <td>https://www.wmata.com/js/nexttrain/nexttrain.h...</td>\n",
       "      <td>POINT (1270853.245 516330.375)</td>\n",
       "    </tr>\n",
       "    <tr>\n",
       "      <th>73</th>\n",
       "      <td>74</td>\n",
       "      <td>mstn_39</td>\n",
       "      <td>Twinbrook</td>\n",
       "      <td>https://www.wmata.com/rider-guide/stations/twi...</td>\n",
       "      <td>1600 CHAPMAN AVENUE, ROCKVILLE, MD</td>\n",
       "      <td>red</td>\n",
       "      <td>https://www.wmata.com/js/nexttrain/nexttrain.h...</td>\n",
       "      <td>POINT (1278026.377 508360.401)</td>\n",
       "    </tr>\n",
       "    <tr>\n",
       "      <th>74</th>\n",
       "      <td>75</td>\n",
       "      <td>mstn_40</td>\n",
       "      <td>White Flint</td>\n",
       "      <td>https://www.wmata.com/rider-guide/stations/whi...</td>\n",
       "      <td>5500 MARINELLI ROAD, ROCKVILLE, MD</td>\n",
       "      <td>red</td>\n",
       "      <td>https://www.wmata.com/js/nexttrain/nexttrain.h...</td>\n",
       "      <td>POINT (1280288.099 503143.356)</td>\n",
       "    </tr>\n",
       "    <tr>\n",
       "      <th>75</th>\n",
       "      <td>76</td>\n",
       "      <td>mstn_41</td>\n",
       "      <td>Grosvenor-Strathmore</td>\n",
       "      <td>https://www.wmata.com/rider-guide/stations/gro...</td>\n",
       "      <td>10300 ROCKVILLE PIKE, BETHESDA, MD</td>\n",
       "      <td>red</td>\n",
       "      <td>https://www.wmata.com/js/nexttrain/nexttrain.h...</td>\n",
       "      <td>POINT (1282830.641 496263.188)</td>\n",
       "    </tr>\n",
       "    <tr>\n",
       "      <th>76</th>\n",
       "      <td>77</td>\n",
       "      <td>mstn_42</td>\n",
       "      <td>Medical Center</td>\n",
       "      <td>https://www.wmata.com/rider-guide/stations/med...</td>\n",
       "      <td>8810 ROCKVILLE PIKE, BETHESDA, MD</td>\n",
       "      <td>red</td>\n",
       "      <td>https://www.wmata.com/js/nexttrain/nexttrain.h...</td>\n",
       "      <td>POINT (1284778.732 485621.647)</td>\n",
       "    </tr>\n",
       "    <tr>\n",
       "      <th>77</th>\n",
       "      <td>78</td>\n",
       "      <td>mstn_43</td>\n",
       "      <td>Bethesda</td>\n",
       "      <td>https://www.wmata.com/rider-guide/stations/bet...</td>\n",
       "      <td>7450 WISCONSIN AVENUE, BETHESDA, MD</td>\n",
       "      <td>red</td>\n",
       "      <td>https://www.wmata.com/js/nexttrain/nexttrain.h...</td>\n",
       "      <td>POINT (1285575.149 479916.334)</td>\n",
       "    </tr>\n",
       "  </tbody>\n",
       "</table>\n",
       "</div>"
      ],
      "text/plain": [
       "    OBJECTID   GIS_ID                  NAME  \\\n",
       "39        40   mstn_5                Takoma   \n",
       "40        41   mstn_6              Glenmont   \n",
       "41        42   mstn_7               Wheaton   \n",
       "42        43   mstn_8           Forest Glen   \n",
       "43        44   mstn_9         Silver Spring   \n",
       "45        46  mstn_11           Fort Totten   \n",
       "66        67  mstn_32         Tenleytown-AU   \n",
       "70        71  mstn_36    Friendship Heights   \n",
       "71        72  mstn_37           Shady Grove   \n",
       "72        73  mstn_38             Rockville   \n",
       "73        74  mstn_39             Twinbrook   \n",
       "74        75  mstn_40           White Flint   \n",
       "75        76  mstn_41  Grosvenor-Strathmore   \n",
       "76        77  mstn_42        Medical Center   \n",
       "77        78  mstn_43              Bethesda   \n",
       "\n",
       "                                              WEB_URL  \\\n",
       "39  https://www.wmata.com/rider-guide/stations/tak...   \n",
       "40  https://www.wmata.com/rider-guide/stations/gle...   \n",
       "41  https://www.wmata.com/rider-guide/stations/whe...   \n",
       "42  https://www.wmata.com/rider-guide/stations/for...   \n",
       "43  https://www.wmata.com/rider-guide/stations/sil...   \n",
       "45  https://www.wmata.com/rider-guide/stations/for...   \n",
       "66  https://www.wmata.com/rider-guide/stations/ten...   \n",
       "70  https://www.wmata.com/rider-guide/stations/fri...   \n",
       "71  https://www.wmata.com/rider-guide/stations/sha...   \n",
       "72  https://www.wmata.com/rider-guide/stations/roc...   \n",
       "73  https://www.wmata.com/rider-guide/stations/twi...   \n",
       "74  https://www.wmata.com/rider-guide/stations/whi...   \n",
       "75  https://www.wmata.com/rider-guide/stations/gro...   \n",
       "76  https://www.wmata.com/rider-guide/stations/med...   \n",
       "77  https://www.wmata.com/rider-guide/stations/bet...   \n",
       "\n",
       "                                     ADDRESS               LINE  \\\n",
       "39       327 CEDAR STREET NW, WASHINGTON, DC                red   \n",
       "40   12501 GEORGIA AVENUE, SILVER SPRING, MD                red   \n",
       "41   11171 GEORGIA AVENUE, SILVER SPRING, MD                red   \n",
       "42      9730 GEORGIA AVENUE, FOREST GLEN, MD                red   \n",
       "43   8400 COLESVILLE ROAD, SILVER SPRING, MD                red   \n",
       "45    550 GALLOWAY STREET NE, WASHINGTON, DC  red, green,yellow   \n",
       "66  4501 WISCONSIN AVENUE NW, WASHINGTON, DC                red   \n",
       "70  5337 WISCONSIN AVENUE NW, WASHINGTON, DC                red   \n",
       "71       15903 SOMERVILLE DRIVE, DERWOOD, MD                red   \n",
       "72       251 HUNGERFORD DRIVE, ROCKVILLE, MD                red   \n",
       "73        1600 CHAPMAN AVENUE, ROCKVILLE, MD                red   \n",
       "74        5500 MARINELLI ROAD, ROCKVILLE, MD                red   \n",
       "75        10300 ROCKVILLE PIKE, BETHESDA, MD                red   \n",
       "76         8810 ROCKVILLE PIKE, BETHESDA, MD                red   \n",
       "77       7450 WISCONSIN AVENUE, BETHESDA, MD                red   \n",
       "\n",
       "                                           TRAININFO_  \\\n",
       "39  https://www.wmata.com/js/nexttrain/nexttrain.h...   \n",
       "40  https://www.wmata.com/js/nexttrain/nexttrain.h...   \n",
       "41  https://www.wmata.com/js/nexttrain/nexttrain.h...   \n",
       "42  https://www.wmata.com/js/nexttrain/nexttrain.h...   \n",
       "43  https://www.wmata.com/js/nexttrain/nexttrain.h...   \n",
       "45  https://www.wmata.com/js/nexttrain/nexttrain.h...   \n",
       "66  https://www.wmata.com/js/nexttrain/nexttrain.h...   \n",
       "70  https://www.wmata.com/js/nexttrain/nexttrain.h...   \n",
       "71  https://www.wmata.com/js/nexttrain/nexttrain.h...   \n",
       "72  https://www.wmata.com/js/nexttrain/nexttrain.h...   \n",
       "73  https://www.wmata.com/js/nexttrain/nexttrain.h...   \n",
       "74  https://www.wmata.com/js/nexttrain/nexttrain.h...   \n",
       "75  https://www.wmata.com/js/nexttrain/nexttrain.h...   \n",
       "76  https://www.wmata.com/js/nexttrain/nexttrain.h...   \n",
       "77  https://www.wmata.com/js/nexttrain/nexttrain.h...   \n",
       "\n",
       "                          geometry  \n",
       "39  POINT (1307164.443 476874.648)  \n",
       "40  POINT (1297124.470 508093.075)  \n",
       "41  POINT (1298099.318 499258.016)  \n",
       "42  POINT (1300137.862 491035.755)  \n",
       "43  POINT (1303516.082 483384.271)  \n",
       "45  POINT (1311705.325 468048.863)  \n",
       "66  POINT (1289697.450 466967.823)  \n",
       "70  POINT (1288162.905 470841.564)  \n",
       "71  POINT (1265624.723 529307.418)  \n",
       "72  POINT (1270853.245 516330.375)  \n",
       "73  POINT (1278026.377 508360.401)  \n",
       "74  POINT (1280288.099 503143.356)  \n",
       "75  POINT (1282830.641 496263.188)  \n",
       "76  POINT (1284778.732 485621.647)  \n",
       "77  POINT (1285575.149 479916.334)  "
      ]
     },
     "execution_count": 33,
     "metadata": {},
     "output_type": "execute_result"
    }
   ],
   "source": [
    "Metro_Mont_Clip = gpd.clip(Metro_All_MD_SHP, Montgomery_SHP_MD_1miBuff)\n",
    "Metro_Mont_Clip #note that including these in actually included a handful of facilities just outside of Montgomery County boundaries"
   ]
  },
  {
   "cell_type": "code",
   "execution_count": 34,
   "metadata": {},
   "outputs": [
    {
     "data": {
      "text/plain": [
       "Text(0.5, 1.0, 'Metro Stops, Within 1 mile of Montgomery County')"
      ]
     },
     "execution_count": 34,
     "metadata": {},
     "output_type": "execute_result"
    },
    {
     "data": {
      "image/png": "[encoded data removed]",
      "text/plain": [
       "<Figure size 432x288 with 1 Axes>"
      ]
     },
     "metadata": {
      "needs_background": "light"
     },
     "output_type": "display_data"
    }
   ],
   "source": [
    "Metro_Mont_Clip_plot = Metro_Mont_Clip.plot()\n",
    "Metro_Mont_Clip_plot.set_title(\"Metro Stops, Within 1 mile of Montgomery County\") "
   ]
  },
  {
   "cell_type": "code",
   "execution_count": 35,
   "metadata": {},
   "outputs": [
    {
     "data": {
      "image/png": "[encoded data removed]",
      "text/plain": [
       "<Figure size 864x576 with 1 Axes>"
      ]
     },
     "metadata": {
      "needs_background": "light"
     },
     "output_type": "display_data"
    }
   ],
   "source": [
    "#Showing comparison by adding multiple shapefiles - old vs. new, along with MD county boundaries\n",
    "\n",
    "fig, ax = plt.subplots(figsize=(12, 8))\n",
    "Montgomery_SHP_MD_1miBuff.boundary.plot(ax=ax, color=\"gray\")\n",
    "Montgomery_SHP_MD.boundary.plot(ax=ax, color=\"red\")\n",
    "Metro_All_MD_SHP.plot(ax=ax,color=\"green\") #just checking the plotting here - \n",
    "# if anything was between two boundaries, we messed up\n",
    "Metro_Mont_Clip.plot(ax=ax, color=\"purple\")\n",
    "ax.set_title(\"Visual Verification: Metro Stations and Montgomery County Buffers\", fontsize=20)\n",
    "ax.set_axis_off()\n",
    "plt.show()"
   ]
  },
  {
   "cell_type": "markdown",
   "metadata": {},
   "source": [
    "We see that there are about 3 or 4 stops that count as being within 1 mile of the overall Montgomery county radius, and must be included in our analyses."
   ]
  },
  {
   "cell_type": "code",
   "execution_count": 36,
   "metadata": {},
   "outputs": [],
   "source": [
    "#Export the clipped Metro stations as a new SHP and KML file\n",
    "# Metro stations clipped to Montgomery buffer, reprojected\n",
    "# Metro_Mont_Clip.to_file(\"Metro_Mont_Clip.shp\")\n",
    "# Metro_Mont_Clip.to_file(\"Metro_Mont_Clip.geojson\", driver='GeoJSON')"
   ]
  },
  {
   "cell_type": "markdown",
   "metadata": {},
   "source": [
    "## Creating total plot comparing MARC to Metro to Montgomery County\n",
    "\n"
   ]
  },
  {
   "cell_type": "code",
   "execution_count": 37,
   "metadata": {},
   "outputs": [
    {
     "data": {
      "image/png": "[encoded data removed]",
      "text/plain": [
       "<Figure size 864x576 with 1 Axes>"
      ]
     },
     "metadata": {
      "needs_background": "light"
     },
     "output_type": "display_data"
    }
   ],
   "source": [
    "#Showing comparison by adding multiple shapefiles - old vs. new, along with MD county boundaries\n",
    "\n",
    "fig, ax = plt.subplots(figsize=(12, 8))\n",
    "Montgomery_SHP_MD_1miBuff.boundary.plot(ax=ax, color=\"gray\")\n",
    "Montgomery_SHP_MD.boundary.plot(ax=ax, color=\"red\")\n",
    "MARC_Mont_Clip.plot(ax=ax,color=\"teal\")\n",
    "Metro_Mont_Clip.plot(ax=ax, color=\"purple\")\n",
    "ax.set_title(\"Distribution of MARC Stations, Metro Stations, and Montgomery County Buffers\", fontsize=20)\n",
    "ax.set_axis_off()\n",
    "plt.show()"
   ]
  },
  {
   "cell_type": "code",
   "execution_count": 38,
   "metadata": {},
   "outputs": [
    {
     "data": {
      "text/plain": [
       "<AxesSubplot:>"
      ]
     },
     "execution_count": 38,
     "metadata": {},
     "output_type": "execute_result"
    },
    {
     "data": {
      "image/png": "[encoded data removed]",
      "text/plain": [
       "<Figure size 864x576 with 1 Axes>"
      ]
     },
     "metadata": {
      "needs_background": "light"
     },
     "output_type": "display_data"
    }
   ],
   "source": [
    "## Consolidation between two stations\n",
    "\n",
    "MARC_Mont_Clip_Buffer = MARC_Mont_Clip.buffer(5280)\n",
    "Metro_Mont_Clip_Buffer = Metro_Mont_Clip.buffer(5280)\n",
    "\n",
    "## best practice is usually to first buffer each\n",
    "# then union\n",
    "# dissolve\n",
    "fig, ax = plt.subplots(figsize=(12, 8))\n",
    "#MARC_Mont_Clip.plot(ax=ax,color=\"darkteal\")\n",
    "Metro_Mont_Clip_Buffer.plot(ax=ax,color=\"teal\")\n",
    "#Metro_Mont_Clip.plot(ax=ax,color=\"darkpurple\")\n",
    "Metro_Mont_Clip_Buffer.plot(ax=ax,color=\"purple\")"
   ]
  },
  {
   "cell_type": "code",
   "execution_count": 39,
   "metadata": {},
   "outputs": [],
   "source": [
    "# MARC_Mont_Clip_Buffer.to_file(\"MARC_Mont_Clip_Buffer.shp\")\n",
    "# MARC_Mont_Clip_Buffer.to_file(\"MARC_Mont_Clip_Buffer.geojson\", driver='GeoJSON')"
   ]
  },
  {
   "cell_type": "code",
   "execution_count": 40,
   "metadata": {},
   "outputs": [],
   "source": [
    "# Metro_Mont_Clip_Buffer.to_file(\"Metro_Mont_Clip_Buffer.shp\")\n",
    "# Metro_Mont_Clip_Buffer.to_file(\"Metro_Mont_Clip_Buffer.geojson\", driver='GeoJSON')"
   ]
  },
  {
   "cell_type": "code",
   "execution_count": 41,
   "metadata": {},
   "outputs": [],
   "source": [
    "# # MARC_All_path\n",
    "# MARC_Mont_Clip"
   ]
  },
  {
   "cell_type": "code",
   "execution_count": 46,
   "metadata": {},
   "outputs": [
    {
     "data": {
      "text/html": [
       "<div>\n",
       "<style scoped>\n",
       "    .dataframe tbody tr th:only-of-type {\n",
       "        vertical-align: middle;\n",
       "    }\n",
       "\n",
       "    .dataframe tbody tr th {\n",
       "        vertical-align: top;\n",
       "    }\n",
       "\n",
       "    .dataframe thead th {\n",
       "        text-align: right;\n",
       "    }\n",
       "</style>\n",
       "<table border=\"1\" class=\"dataframe\">\n",
       "  <thead>\n",
       "    <tr style=\"text-align: right;\">\n",
       "      <th></th>\n",
       "      <th>geometry</th>\n",
       "    </tr>\n",
       "  </thead>\n",
       "  <tbody>\n",
       "    <tr>\n",
       "      <th>0</th>\n",
       "      <td>POLYGON ((1197478.022 566024.548, 1197452.597 ...</td>\n",
       "    </tr>\n",
       "    <tr>\n",
       "      <th>1</th>\n",
       "      <td>POLYGON ((1209290.351 562098.815, 1209264.926 ...</td>\n",
       "    </tr>\n",
       "    <tr>\n",
       "      <th>2</th>\n",
       "      <td>POLYGON ((1228891.459 552694.533, 1228866.034 ...</td>\n",
       "    </tr>\n",
       "    <tr>\n",
       "      <th>3</th>\n",
       "      <td>POLYGON ((1241214.885 548560.627, 1241189.461 ...</td>\n",
       "    </tr>\n",
       "    <tr>\n",
       "      <th>4</th>\n",
       "      <td>POLYGON ((1253217.971 540255.056, 1253192.546 ...</td>\n",
       "    </tr>\n",
       "    <tr>\n",
       "      <th>5</th>\n",
       "      <td>POLYGON ((1262775.395 537152.836, 1262749.970 ...</td>\n",
       "    </tr>\n",
       "    <tr>\n",
       "      <th>6</th>\n",
       "      <td>POLYGON ((1267548.619 534816.171, 1267523.194 ...</td>\n",
       "    </tr>\n",
       "    <tr>\n",
       "      <th>7</th>\n",
       "      <td>POLYGON ((1275861.321 516630.339, 1275835.897 ...</td>\n",
       "    </tr>\n",
       "    <tr>\n",
       "      <th>8</th>\n",
       "      <td>POLYGON ((1291096.917 499733.077, 1291071.492 ...</td>\n",
       "    </tr>\n",
       "    <tr>\n",
       "      <th>9</th>\n",
       "      <td>POLYGON ((1297091.287 495454.013, 1297065.862 ...</td>\n",
       "    </tr>\n",
       "    <tr>\n",
       "      <th>10</th>\n",
       "      <td>POLYGON ((1309002.193 483690.727, 1308976.768 ...</td>\n",
       "    </tr>\n",
       "    <tr>\n",
       "      <th>11</th>\n",
       "      <td>POLYGON ((1309021.806 483697.276, 1308996.381 ...</td>\n",
       "    </tr>\n",
       "    <tr>\n",
       "      <th>12</th>\n",
       "      <td>POLYGON ((1297104.370 495473.670, 1297078.945 ...</td>\n",
       "    </tr>\n",
       "    <tr>\n",
       "      <th>13</th>\n",
       "      <td>POLYGON ((1291116.536 499752.724, 1291091.111 ...</td>\n",
       "    </tr>\n",
       "    <tr>\n",
       "      <th>14</th>\n",
       "      <td>POLYGON ((1275887.468 516649.964, 1275862.043 ...</td>\n",
       "    </tr>\n",
       "    <tr>\n",
       "      <th>15</th>\n",
       "      <td>POLYGON ((1267581.561 534835.775, 1267556.136 ...</td>\n",
       "    </tr>\n",
       "    <tr>\n",
       "      <th>16</th>\n",
       "      <td>POLYGON ((1262775.478 537192.171, 1262750.053 ...</td>\n",
       "    </tr>\n",
       "    <tr>\n",
       "      <th>17</th>\n",
       "      <td>POLYGON ((1253204.561 540222.309, 1253179.136 ...</td>\n",
       "    </tr>\n",
       "    <tr>\n",
       "      <th>18</th>\n",
       "      <td>POLYGON ((1241188.726 548534.480, 1241163.301 ...</td>\n",
       "    </tr>\n",
       "    <tr>\n",
       "      <th>19</th>\n",
       "      <td>POLYGON ((1228898.090 552727.291, 1228872.666 ...</td>\n",
       "    </tr>\n",
       "    <tr>\n",
       "      <th>20</th>\n",
       "      <td>POLYGON ((1209303.523 562131.541, 1209278.098 ...</td>\n",
       "    </tr>\n",
       "    <tr>\n",
       "      <th>21</th>\n",
       "      <td>POLYGON ((1197478.204 566063.884, 1197452.780 ...</td>\n",
       "    </tr>\n",
       "  </tbody>\n",
       "</table>\n",
       "</div>"
      ],
      "text/plain": [
       "                                             geometry\n",
       "0   POLYGON ((1197478.022 566024.548, 1197452.597 ...\n",
       "1   POLYGON ((1209290.351 562098.815, 1209264.926 ...\n",
       "2   POLYGON ((1228891.459 552694.533, 1228866.034 ...\n",
       "3   POLYGON ((1241214.885 548560.627, 1241189.461 ...\n",
       "4   POLYGON ((1253217.971 540255.056, 1253192.546 ...\n",
       "5   POLYGON ((1262775.395 537152.836, 1262749.970 ...\n",
       "6   POLYGON ((1267548.619 534816.171, 1267523.194 ...\n",
       "7   POLYGON ((1275861.321 516630.339, 1275835.897 ...\n",
       "8   POLYGON ((1291096.917 499733.077, 1291071.492 ...\n",
       "9   POLYGON ((1297091.287 495454.013, 1297065.862 ...\n",
       "10  POLYGON ((1309002.193 483690.727, 1308976.768 ...\n",
       "11  POLYGON ((1309021.806 483697.276, 1308996.381 ...\n",
       "12  POLYGON ((1297104.370 495473.670, 1297078.945 ...\n",
       "13  POLYGON ((1291116.536 499752.724, 1291091.111 ...\n",
       "14  POLYGON ((1275887.468 516649.964, 1275862.043 ...\n",
       "15  POLYGON ((1267581.561 534835.775, 1267556.136 ...\n",
       "16  POLYGON ((1262775.478 537192.171, 1262750.053 ...\n",
       "17  POLYGON ((1253204.561 540222.309, 1253179.136 ...\n",
       "18  POLYGON ((1241188.726 548534.480, 1241163.301 ...\n",
       "19  POLYGON ((1228898.090 552727.291, 1228872.666 ...\n",
       "20  POLYGON ((1209303.523 562131.541, 1209278.098 ...\n",
       "21  POLYGON ((1197478.204 566063.884, 1197452.780 ..."
      ]
     },
     "execution_count": 46,
     "metadata": {},
     "output_type": "execute_result"
    }
   ],
   "source": [
    "## geopandas data frame for both\n",
    "MARC_Mont_Clip_Buffer_gdf = gpd.GeoDataFrame.from_file('C:/Users/611322/BOOZ ALLEN HAMILTON/WiDS Incubator Cohort 4 - ADU - General/GeographicData/MARC_Mont_Clip_Buffer.geojson')\n",
    "MARC_Mont_Clip_Buffer_gdf #need to join data based on geometry"
   ]
  },
  {
   "cell_type": "code",
   "execution_count": 47,
   "metadata": {},
   "outputs": [
    {
     "data": {
      "text/html": [
       "<div>\n",
       "<style scoped>\n",
       "    .dataframe tbody tr th:only-of-type {\n",
       "        vertical-align: middle;\n",
       "    }\n",
       "\n",
       "    .dataframe tbody tr th {\n",
       "        vertical-align: top;\n",
       "    }\n",
       "\n",
       "    .dataframe thead th {\n",
       "        text-align: right;\n",
       "    }\n",
       "</style>\n",
       "<table border=\"1\" class=\"dataframe\">\n",
       "  <thead>\n",
       "    <tr style=\"text-align: right;\">\n",
       "      <th></th>\n",
       "      <th>geometry</th>\n",
       "    </tr>\n",
       "  </thead>\n",
       "  <tbody>\n",
       "    <tr>\n",
       "      <th>0</th>\n",
       "      <td>POLYGON ((1312444.443 476874.648, 1312419.018 ...</td>\n",
       "    </tr>\n",
       "    <tr>\n",
       "      <th>1</th>\n",
       "      <td>POLYGON ((1302404.470 508093.075, 1302379.046 ...</td>\n",
       "    </tr>\n",
       "    <tr>\n",
       "      <th>2</th>\n",
       "      <td>POLYGON ((1303379.318 499258.016, 1303353.894 ...</td>\n",
       "    </tr>\n",
       "    <tr>\n",
       "      <th>3</th>\n",
       "      <td>POLYGON ((1305417.862 491035.755, 1305392.437 ...</td>\n",
       "    </tr>\n",
       "    <tr>\n",
       "      <th>4</th>\n",
       "      <td>POLYGON ((1308796.082 483384.271, 1308770.658 ...</td>\n",
       "    </tr>\n",
       "    <tr>\n",
       "      <th>5</th>\n",
       "      <td>POLYGON ((1316985.325 468048.863, 1316959.900 ...</td>\n",
       "    </tr>\n",
       "    <tr>\n",
       "      <th>6</th>\n",
       "      <td>POLYGON ((1294977.450 466967.823, 1294952.026 ...</td>\n",
       "    </tr>\n",
       "    <tr>\n",
       "      <th>7</th>\n",
       "      <td>POLYGON ((1293442.905 470841.564, 1293417.481 ...</td>\n",
       "    </tr>\n",
       "    <tr>\n",
       "      <th>8</th>\n",
       "      <td>POLYGON ((1270904.723 529307.418, 1270879.299 ...</td>\n",
       "    </tr>\n",
       "    <tr>\n",
       "      <th>9</th>\n",
       "      <td>POLYGON ((1276133.245 516330.375, 1276107.820 ...</td>\n",
       "    </tr>\n",
       "    <tr>\n",
       "      <th>10</th>\n",
       "      <td>POLYGON ((1283306.377 508360.401, 1283280.952 ...</td>\n",
       "    </tr>\n",
       "    <tr>\n",
       "      <th>11</th>\n",
       "      <td>POLYGON ((1285568.099 503143.356, 1285542.675 ...</td>\n",
       "    </tr>\n",
       "    <tr>\n",
       "      <th>12</th>\n",
       "      <td>POLYGON ((1288110.641 496263.188, 1288085.216 ...</td>\n",
       "    </tr>\n",
       "    <tr>\n",
       "      <th>13</th>\n",
       "      <td>POLYGON ((1290058.732 485621.647, 1290033.307 ...</td>\n",
       "    </tr>\n",
       "    <tr>\n",
       "      <th>14</th>\n",
       "      <td>POLYGON ((1290855.149 479916.334, 1290829.724 ...</td>\n",
       "    </tr>\n",
       "  </tbody>\n",
       "</table>\n",
       "</div>"
      ],
      "text/plain": [
       "                                             geometry\n",
       "0   POLYGON ((1312444.443 476874.648, 1312419.018 ...\n",
       "1   POLYGON ((1302404.470 508093.075, 1302379.046 ...\n",
       "2   POLYGON ((1303379.318 499258.016, 1303353.894 ...\n",
       "3   POLYGON ((1305417.862 491035.755, 1305392.437 ...\n",
       "4   POLYGON ((1308796.082 483384.271, 1308770.658 ...\n",
       "5   POLYGON ((1316985.325 468048.863, 1316959.900 ...\n",
       "6   POLYGON ((1294977.450 466967.823, 1294952.026 ...\n",
       "7   POLYGON ((1293442.905 470841.564, 1293417.481 ...\n",
       "8   POLYGON ((1270904.723 529307.418, 1270879.299 ...\n",
       "9   POLYGON ((1276133.245 516330.375, 1276107.820 ...\n",
       "10  POLYGON ((1283306.377 508360.401, 1283280.952 ...\n",
       "11  POLYGON ((1285568.099 503143.356, 1285542.675 ...\n",
       "12  POLYGON ((1288110.641 496263.188, 1288085.216 ...\n",
       "13  POLYGON ((1290058.732 485621.647, 1290033.307 ...\n",
       "14  POLYGON ((1290855.149 479916.334, 1290829.724 ..."
      ]
     },
     "execution_count": 47,
     "metadata": {},
     "output_type": "execute_result"
    }
   ],
   "source": [
    "## geopandas data frame for both\n",
    "Metro_Mont_Clip_Buffer_gdf = gpd.GeoDataFrame.from_file('C:/Users/611322/BOOZ ALLEN HAMILTON/WiDS Incubator Cohort 4 - ADU - General/GeographicData/Metro_Mont_Clip_Buffer.geojson')\n",
    "Metro_Mont_Clip_Buffer_gdf #need to join data based on geometry"
   ]
  },
  {
   "cell_type": "code",
   "execution_count": 48,
   "metadata": {},
   "outputs": [],
   "source": [
    "# #join attribute data to this\n",
    "# MARC_Mont_Clip_Buffer_gdf.join(MARC_Mont_Clip,on='geometry')"
   ]
  },
  {
   "cell_type": "code",
   "execution_count": 49,
   "metadata": {},
   "outputs": [
    {
     "data": {
      "text/plain": [
       "<AxesSubplot:>"
      ]
     },
     "execution_count": 49,
     "metadata": {},
     "output_type": "execute_result"
    },
    {
     "data": {
      "image/png": "[encoded data removed]",
      "text/plain": [
       "<Figure size 432x288 with 1 Axes>"
      ]
     },
     "metadata": {
      "needs_background": "light"
     },
     "output_type": "display_data"
    }
   ],
   "source": [
    "res_union = gpd.overlay(MARC_Mont_Clip_Buffer_gdf, Metro_Mont_Clip_Buffer_gdf, how='union')\n",
    "res_union.plot()"
   ]
  },
  {
   "cell_type": "code",
   "execution_count": null,
   "metadata": {},
   "outputs": [],
   "source": [
    "# res_union_dissolve = res_union.dissolve(by=all)"
   ]
  },
  {
   "cell_type": "code",
   "execution_count": null,
   "metadata": {},
   "outputs": [],
   "source": []
  }
 ],
 "metadata": {
  "kernelspec": {
   "display_name": "Python 3",
   "language": "python",
   "name": "python3"
  },
  "language_info": {
   "codemirror_mode": {
    "name": "ipython",
    "version": 3
   },
   "file_extension": ".py",
   "mimetype": "text/x-python",
   "name": "python",
   "nbconvert_exporter": "python",
   "pygments_lexer": "ipython3",
   "version": "3.7.6"
  }
 },
 "nbformat": 4,
 "nbformat_minor": 4
}
